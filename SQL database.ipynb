{
 "cells": [
  {
   "cell_type": "code",
   "execution_count": null,
   "id": "8bba9f99",
   "metadata": {
    "pycharm": {
     "is_executing": true
    }
   },
   "outputs": [],
   "source": []
  },
  {
   "cell_type": "code",
   "execution_count": null,
   "id": "2471ee0b",
   "metadata": {},
   "outputs": [],
   "source": [
    "import sqlalchemy as sqla\n",
    "from sqlalchemy import create_engine\n",
    "import traceback \n",
    "import glob\n",
    "import os \n",
    "import pprint\n",
    "from pprint import pprint\n",
    "import json\n",
    "import requests\n",
    "import time\n",
    "from IPython.display import display"
   ]
  },
  {
   "cell_type": "code",
   "execution_count": 1,
   "id": "c3690060",
   "metadata": {},
   "outputs": [],
   "source": [
    "url = \"dbbikes.cvvkn6jkfbdf.eu-west-1.rds.amazonaws.com\"\n",
    "port = \"3306\"\n",
    "db = \"dbbikes\"\n",
    "user = \"SEGroup25\"\n",
    "password = \"SEGroup25?\""
   ]
  },
  {
   "cell_type": "code",
   "execution_count": 2,
   "id": "f3e372fd",
   "metadata": {},
   "outputs": [
    {
     "ename": "NameError",
     "evalue": "name 'create_engine' is not defined",
     "output_type": "error",
     "traceback": [
      "\u001B[0;31m---------------------------------------------------------------------------\u001B[0m",
      "\u001B[0;31mNameError\u001B[0m                                 Traceback (most recent call last)",
      "Cell \u001B[0;32mIn[2], line 1\u001B[0m\n\u001B[0;32m----> 1\u001B[0m engine \u001B[38;5;241m=\u001B[39m \u001B[43mcreate_engine\u001B[49m(\u001B[38;5;124mf\u001B[39m\u001B[38;5;124m\"\u001B[39m\u001B[38;5;124mmysql+mysqldb://\u001B[39m\u001B[38;5;132;01m{\u001B[39;00muser\u001B[38;5;132;01m}\u001B[39;00m\u001B[38;5;124m:\u001B[39m\u001B[38;5;132;01m{\u001B[39;00mpassword\u001B[38;5;132;01m}\u001B[39;00m\u001B[38;5;124m@\u001B[39m\u001B[38;5;132;01m{\u001B[39;00murl\u001B[38;5;132;01m}\u001B[39;00m\u001B[38;5;124m:\u001B[39m\u001B[38;5;132;01m{\u001B[39;00mport\u001B[38;5;132;01m}\u001B[39;00m\u001B[38;5;124m/\u001B[39m\u001B[38;5;132;01m{\u001B[39;00mdb\u001B[38;5;132;01m}\u001B[39;00m\u001B[38;5;124m\"\u001B[39m, echo\u001B[38;5;241m=\u001B[39m\u001B[38;5;28;01mTrue\u001B[39;00m)\n",
      "\u001B[0;31mNameError\u001B[0m: name 'create_engine' is not defined"
     ]
    }
   ],
   "source": [
    "engine = create_engine(f\"mysql+mysqldb://{user}:{password}@{url}:{port}/{db}\", echo=True)"
   ]
  },
  {
   "cell_type": "code",
   "execution_count": null,
   "id": "5d495761",
   "metadata": {},
   "outputs": [],
   "source": []
  },
  {
   "cell_type": "code",
   "execution_count": null,
   "id": "656b1f59",
   "metadata": {},
   "outputs": [],
   "source": [
    "for res in engine.execute(\"SHOW VARIABLES\"):\n",
    "    print(res)"
   ]
  },
  {
   "cell_type": "code",
   "execution_count": null,
   "id": "3dcbfed6",
   "metadata": {},
   "outputs": [],
   "source": [
    "\n",
    "engine.execute(\"DROP TABLE IF EXISTS `dbbikes`.`stations`\")\n",
    "\n",
    "sql = \"\"\"\n",
    "CREATE TABLE `dbbikes`.`stations` (\n",
    "  `number` INT NOT NULL,\n",
    "  `contract_name` VARCHAR(45) NULL,\n",
    "  `stat_name` VARCHAR(45) NULL,\n",
    "  `address` VARCHAR(45) NULL,\n",
    "  `position_lat` REAL NULL,\n",
    "  `position_long` REAL NULL,\n",
    "  `banking` TINYINT NULL,\n",
    "  `bonus` TINYINT NULL,\n",
    "  `bikestands` VARCHAR(45) NULL,\n",
    "  `stat_status` VARCHAR(45) NULL,\n",
    "  PRIMARY KEY (`number`));\n",
    "\"\"\"\n",
    "engine.execute(sql)\n",
    "\n"
   ]
  },
  {
   "cell_type": "code",
   "execution_count": null,
   "id": "942f563c",
   "metadata": {},
   "outputs": [],
   "source": [
    "\n",
    "engine.execute(\"DROP TABLE IF EXISTS `weather`.`weather`\")\n",
    "\n",
    "\n",
    "sql = \"\"\"\n",
    "CREATE TABLE `weather`.`weather` (\n",
    "  `time` REAL NOT NULL,\n",
    "  `cord_long` REAL  NULL,\n",
    "  `cord_lat` REAL NULL,\n",
    "  `weather_main` VARCHAR(45) NULL,\n",
    "  `main_temp` REAL NULL,\n",
    "  `main_humidity` REAL NULL,\n",
    "  `wind_speed` REAL NULL,\n",
    "  `wind_degree` REAL NULL,\n",
    "  `sys_sunset` INT NULL,\n",
    "  `sys_sunrise` INT NULL\n",
    "  )\n",
    "\"\"\"\n",
    "engine.execute(sql)"
   ]
  },
  {
   "cell_type": "code",
   "execution_count": null,
   "id": "b0c3c5a1",
   "metadata": {},
   "outputs": [],
   "source": [
    "sql = \"\"\"\n",
    "CREATE TABLE IF NOT EXISTS availability (\n",
    "available_bike_stands INT,\n",
    "available_bikes INT,\n",
    "last_update INT,\n",
    "number INT)\n",
    "\"\"\"\n",
    "\n",
    "try:\n",
    "    res = engine.execute(sql)\n",
    "    print(res.fetchall())\n",
    "except Exception as e:\n",
    "    print(e)"
   ]
  },
  {
   "cell_type": "code",
   "execution_count": null,
   "id": "bf21db41",
   "metadata": {},
   "outputs": [],
   "source": []
  },
  {
   "cell_type": "code",
   "execution_count": 3,
   "id": "7a15f78e",
   "metadata": {},
   "outputs": [],
   "source": [
    "import requests\n",
    "import traceback\n",
    "import datetime\n",
    "import time "
   ]
  },
  {
   "cell_type": "code",
   "execution_count": 4,
   "id": "f7dab61c",
   "metadata": {},
   "outputs": [],
   "source": [
    "APIKEY = \"5ac1b590c7e338d66c34fa0c5610e94c99a3b45c\"\n",
    "NAME = \"Dublin\"\n",
    "STATIONS = \"https://api.jcdecaux.com/vls/v1/stations\""
   ]
  },
  {
   "cell_type": "code",
   "execution_count": 5,
   "id": "f97ce7ce",
   "metadata": {},
   "outputs": [
    {
     "name": "stdout",
     "output_type": "stream",
     "text": [
      "<Response [200]> 2023-03-30 10:01:32.246031\n",
      "Traceback (most recent call last):\n",
      "  File \"/var/folders/7r/5dq81jms6sddg6kh57c8ypwm0000gn/T/ipykernel_56905/1381663942.py\", line 59, in main\n",
      "    stations_to_db(r.text)\n",
      "  File \"/var/folders/7r/5dq81jms6sddg6kh57c8ypwm0000gn/T/ipykernel_56905/1381663942.py\", line 10, in stations_to_db\n",
      "    stations = json.loads(text)\n",
      "NameError: name 'json' is not defined\n",
      "\n"
     ]
    },
    {
     "ename": "NameError",
     "evalue": "name 'engine' is not defined",
     "output_type": "error",
     "traceback": [
      "\u001B[0;31m---------------------------------------------------------------------------\u001B[0m",
      "\u001B[0;31mNameError\u001B[0m                                 Traceback (most recent call last)",
      "Cell \u001B[0;32mIn[5], line 59\u001B[0m, in \u001B[0;36mmain\u001B[0;34m()\u001B[0m\n\u001B[1;32m     58\u001B[0m \u001B[38;5;66;03m#write_to_file(r.text)\u001B[39;00m\n\u001B[0;32m---> 59\u001B[0m \u001B[43mstations_to_db\u001B[49m\u001B[43m(\u001B[49m\u001B[43mr\u001B[49m\u001B[38;5;241;43m.\u001B[39;49m\u001B[43mtext\u001B[49m\u001B[43m)\u001B[49m\n\u001B[1;32m     60\u001B[0m availability_to_db(r\u001B[38;5;241m.\u001B[39mtext)\n",
      "Cell \u001B[0;32mIn[5], line 10\u001B[0m, in \u001B[0;36mstations_to_db\u001B[0;34m(text)\u001B[0m\n\u001B[1;32m      9\u001B[0m \u001B[38;5;28;01mdef\u001B[39;00m \u001B[38;5;21mstations_to_db\u001B[39m(text):\n\u001B[0;32m---> 10\u001B[0m     stations \u001B[38;5;241m=\u001B[39m \u001B[43mjson\u001B[49m\u001B[38;5;241m.\u001B[39mloads(text)\n\u001B[1;32m     11\u001B[0m     \u001B[38;5;28mprint\u001B[39m(\u001B[38;5;28mtype\u001B[39m(stations),\u001B[38;5;28mlen\u001B[39m(stations))\n",
      "\u001B[0;31mNameError\u001B[0m: name 'json' is not defined",
      "\nDuring handling of the above exception, another exception occurred:\n",
      "\u001B[0;31mNameError\u001B[0m                                 Traceback (most recent call last)",
      "Cell \u001B[0;32mIn[5], line 68\u001B[0m\n\u001B[1;32m     65\u001B[0m                 \u001B[38;5;28;01mreturn\u001B[39;00m\n\u001B[1;32m     67\u001B[0m \u001B[38;5;28;01mif\u001B[39;00m \u001B[38;5;18m__name__\u001B[39m \u001B[38;5;241m==\u001B[39m \u001B[38;5;124m\"\u001B[39m\u001B[38;5;124m__main__\u001B[39m\u001B[38;5;124m\"\u001B[39m:\n\u001B[0;32m---> 68\u001B[0m     \u001B[43mmain\u001B[49m\u001B[43m(\u001B[49m\u001B[43m)\u001B[49m\n",
      "Cell \u001B[0;32mIn[5], line 64\u001B[0m, in \u001B[0;36mmain\u001B[0;34m()\u001B[0m\n\u001B[1;32m     62\u001B[0m \u001B[38;5;28;01mexcept\u001B[39;00m:\n\u001B[1;32m     63\u001B[0m     \u001B[38;5;28mprint\u001B[39m(traceback\u001B[38;5;241m.\u001B[39mformat_exc())\n\u001B[0;32m---> 64\u001B[0m     \u001B[38;5;28;01mif\u001B[39;00m \u001B[43mengine\u001B[49m \u001B[38;5;129;01mis\u001B[39;00m \u001B[38;5;28;01mNone\u001B[39;00m:\n\u001B[1;32m     65\u001B[0m         \u001B[38;5;28;01mreturn\u001B[39;00m\n",
      "\u001B[0;31mNameError\u001B[0m: name 'engine' is not defined"
     ]
    }
   ],
   "source": [
    "\n",
    "def write_to_file(text):\n",
    "    now = datetime.datetime.now()\n",
    "    with open(f\"data/bikes_{now}\".replace(\" \", \"_\"), \"w\") as f:\n",
    "        f.write(text)\n",
    "    \n",
    "\n",
    "            \n",
    "def stations_to_db(text):\n",
    "    stations = json.loads(text)\n",
    "    print(type(stations),len(stations))\n",
    "    print(text)\n",
    "\n",
    "    for station in stations:\n",
    "        print(station)\n",
    "        vals = (\n",
    "            station.get(\"number\"),\n",
    "            station.get(\"contract_name\"),\n",
    "            station.get(\"name\"),\n",
    "            station.get(\"address\"),\n",
    "            station.get(\"position\").get(\"lat\"),\n",
    "            station.get(\"position\").get(\"lng\"),\n",
    "            station.get(\"banking\"),\n",
    "            station.get(\"bonus\"),\n",
    "            station.get(\"bike_stands\"),\n",
    "            station.get(\"status\")\n",
    "        )\n",
    "        print(\"\\n\\n\\nVALS:{}\\n\\n\\n\".format(vals))\n",
    "        engine.execute(\"insert into stations values(%s, %s, %s, %s, %s, %s, %s, %s, %s, %s)\", vals)\n",
    "\n",
    "\n",
    "def availability_to_db(text):\n",
    "    availability =json.loads(text)\n",
    "    print(type(availability), len(availability))\n",
    "    for available in availability:\n",
    "        print(available)\n",
    "        vals = (\n",
    "        (available.get(\"available_bike_stands\")),\n",
    "        (available.get(\"available_bikes\")),\n",
    "        available.get(\"last_update\"),\n",
    "        (available.get(\"number\"))\n",
    "        )\n",
    "        engine.execute(\"insert into availability values(%s, %s, %s, %s)\", vals)\n",
    "\n",
    "    return\n",
    "\n",
    "    \n",
    "\n",
    "\n",
    "\n",
    "def main():\n",
    "    while True:\n",
    "        try:\n",
    "            now = datetime.datetime.now()\n",
    "            r = requests.get(STATIONS , params = {\"apiKey\": APIKEY, \"contract\": NAME})\n",
    "            print(r,now)\n",
    "            #write_to_file(r.text)\n",
    "            stations_to_db(r.text)\n",
    "            availability_to_db(r.text)\n",
    "            time.sleep(5 * 60)\n",
    "        except:\n",
    "            print(traceback.format_exc())\n",
    "            if engine is None:\n",
    "                return\n",
    "\n",
    "if __name__ == \"__main__\":\n",
    "    main()  "
   ]
  },
  {
   "cell_type": "code",
   "execution_count": null,
   "id": "893b1d68",
   "metadata": {},
   "outputs": [],
   "source": [
    "url = \"https://api.openweathermap.org/data/2.5/weather?q=Dublin&units=metric&appid=3f8d6a1b1c08e87d9aa40e783517b136\""
   ]
  },
  {
   "cell_type": "code",
   "execution_count": null,
   "id": "4bfbfae5",
   "metadata": {},
   "outputs": [],
   "source": [
    "def write_to_file2(text):\n",
    "    now = datetime.datetime.now()\n",
    "    with open(f\"data/weather_{now}\".replace(\" \", \"_\"), \"w\") as f:\n",
    "        f.write(text) \n",
    "        \n",
    "def weather_to_db(text):\n",
    "    weather = json.loads(text)\n",
    "    print(type(weather),len(weather))\n",
    "    print(text)\n",
    "\n",
    "    for w in weather:\n",
    "        print(w)\n",
    "        vals = (\n",
    "            weather.get(\"clouds\"),\n",
    "            weather.get(\"coord\").get(\"lon\"),\n",
    "            weather.get(\"coord\").get(\"lan\"),\n",
    "            weather.get(\"weather\").get(\"main\"),\n",
    "            weather.get(\"main\").get(\"temp\"),\n",
    "            weather.get(\"main\").get(\"humidity\"),\n",
    "            weather.get(\"wind\").get(\"speed\"),\n",
    "            weather.get(\"wind\").get(\"deg\"),\n",
    "            weather.get(\"sys\").get(\"sunset\"),\n",
    "            weather.get(\"sys\").get(\"sunirise\")\n",
    "        )\n",
    "        print(\"\\n\\n\\nVALS:{}\\n\\n\\n\".format(vals))\n",
    "        engine.execute(\"insert into weather values(%s, %s, %s, %s, %s, %s, %s, %s, %s, %s)\", vals)\n",
    "\n",
    "    \n",
    "def weather_main():\n",
    "    while True:\n",
    "        try:\n",
    "            now = datetime.datetime.now()\n",
    "            r = requests.get(url)\n",
    "            print(r,now)\n",
    "\n",
    "            weather_to_db(r.text)\n",
    "            time.sleep(5 * 60)\n",
    "        except:\n",
    "            print(traceback.format_exc())\n",
    "            if engine is None:\n",
    "                return\n",
    "\n",
    "if __name__ == \"__weather__main__\":\n",
    "    weather_main() "
   ]
  },
  {
   "cell_type": "code",
   "execution_count": null,
   "id": "d24d6522",
   "metadata": {},
   "outputs": [],
   "source": [
    "\n"
   ]
  },
  {
   "cell_type": "code",
   "execution_count": null,
   "id": "7d461621",
   "metadata": {},
   "outputs": [],
   "source": []
  },
  {
   "cell_type": "code",
   "execution_count": null,
   "id": "3cb5f443",
   "metadata": {},
   "outputs": [],
   "source": [
    "\n",
    "\n"
   ]
  },
  {
   "cell_type": "code",
   "execution_count": null,
   "id": "b804108d",
   "metadata": {},
   "outputs": [],
   "source": []
  },
  {
   "cell_type": "code",
   "execution_count": null,
   "id": "a31ec840",
   "metadata": {},
   "outputs": [],
   "source": []
  },
  {
   "cell_type": "code",
   "execution_count": null,
   "id": "27e52f42",
   "metadata": {},
   "outputs": [],
   "source": []
  }
 ],
 "metadata": {
  "kernelspec": {
   "display_name": "Python 3 (ipykernel)",
   "language": "python",
   "name": "python3"
  },
  "language_info": {
   "codemirror_mode": {
    "name": "ipython",
    "version": 3
   },
   "file_extension": ".py",
   "mimetype": "text/x-python",
   "name": "python",
   "nbconvert_exporter": "python",
   "pygments_lexer": "ipython3",
   "version": "3.9.13"
  }
 },
 "nbformat": 4,
 "nbformat_minor": 5
}
