{
 "cells": [
  {
   "cell_type": "code",
   "execution_count": 1,
   "id": "c0733db7",
   "metadata": {},
   "outputs": [],
   "source": [
    "\n",
    "import pickle\n",
    "import pandas as pd\n",
    "import numpy as np\n",
    "import sqlalchemy\n",
    "import requests\n",
    "import matplotlib.pyplot as plt\n",
    "import seaborn as sns\n",
    "from sklearn import model_selection\n",
    "from sklearn.linear_model import LogisticRegression\n",
    "from sklearn.linear_model import LinearRegression\n",
    "from sklearn.tree import DecisionTreeRegressor\n",
    "from sklearn.tree import DecisionTreeClassifier\n",
    "from sklearn.ensemble import RandomForestClassifier\n",
    "from sklearn.ensemble import RandomForestRegressor\n",
    "from sklearn import tree\n",
    "import datetime\n",
    "from sklearn import preprocessing\n",
    "from sklearn.model_selection import train_test_split\n",
    "from sklearn import metrics\n",
    "\n",
    "import sqlalchemy as sqla\n",
    "from sqlalchemy import create_engine\n",
    "import traceback\n",
    "import glob\n",
    "import os\n",
    "from pprint import pprint\n",
    "import json\n",
    "import requests\n",
    "import time\n",
    "from IPython.display import display\n",
    "import sys"
   ]
  },
  {
   "cell_type": "code",
   "execution_count": 2,
   "id": "2b197f6d",
   "metadata": {},
   "outputs": [],
   "source": [
    "\n",
    "url = \"dbbikes.cvvkn6jkfbdf.eu-west-1.rds.amazonaws.com\"\n",
    "port = \"3306\"\n",
    "db = \"dbbikes\"\n",
    "user = \"SEGroup25\"\n",
    "password = \"SEGroup25?\"\n",
    "\n"
   ]
  },
  {
   "cell_type": "code",
   "execution_count": 3,
   "id": "34d105ab",
   "metadata": {},
   "outputs": [],
   "source": [
    "\n",
    "engine = create_engine(f\"mysql+mysqldb://{user}:{password}@{url}:{port}/{db}\", echo=True)\n"
   ]
  },
  {
   "cell_type": "code",
   "execution_count": 4,
   "id": "3aa3ab7d",
   "metadata": {},
   "outputs": [
    {
     "name": "stdout",
     "output_type": "stream",
     "text": [
      "2023-04-18 10:10:26,435 INFO sqlalchemy.engine.Engine SELECT DATABASE()\n",
      "2023-04-18 10:10:26,437 INFO sqlalchemy.engine.Engine [raw sql] ()\n",
      "2023-04-18 10:10:26,802 INFO sqlalchemy.engine.Engine SELECT @@sql_mode\n",
      "2023-04-18 10:10:26,804 INFO sqlalchemy.engine.Engine [raw sql] ()\n",
      "2023-04-18 10:10:26,813 INFO sqlalchemy.engine.Engine SELECT @@lower_case_table_names\n",
      "2023-04-18 10:10:26,815 INFO sqlalchemy.engine.Engine [raw sql] ()\n",
      "2023-04-18 10:10:26,848 INFO sqlalchemy.engine.Engine SELECT COUNT(*) FROM information_schema.tables WHERE table_schema = %s AND table_name = %s\n",
      "2023-04-18 10:10:26,852 INFO sqlalchemy.engine.Engine [generated in 0.00394s] ('dbbikes', 'select * from dbbikes.availability')\n",
      "2023-04-18 10:10:26,871 INFO sqlalchemy.engine.Engine select * from dbbikes.availability\n",
      "2023-04-18 10:10:26,872 INFO sqlalchemy.engine.Engine [raw sql] ()\n"
     ]
    }
   ],
   "source": [
    "\n",
    "availability_sql = pd.read_sql(\"select * from dbbikes.availability\", engine)"
   ]
  },
  {
   "cell_type": "code",
   "execution_count": 5,
   "id": "6f8fe060",
   "metadata": {},
   "outputs": [
    {
     "name": "stdout",
     "output_type": "stream",
     "text": [
      "2023-04-18 10:10:35,726 INFO sqlalchemy.engine.Engine SELECT COUNT(*) FROM information_schema.tables WHERE table_schema = %s AND table_name = %s\n",
      "2023-04-18 10:10:35,728 INFO sqlalchemy.engine.Engine [cached since 8.881s ago] ('dbbikes', 'select * from dbbikes.weather')\n",
      "2023-04-18 10:10:35,745 INFO sqlalchemy.engine.Engine select * from dbbikes.weather\n",
      "2023-04-18 10:10:35,746 INFO sqlalchemy.engine.Engine [raw sql] ()\n"
     ]
    }
   ],
   "source": [
    "\n",
    "weather_sql = pd.read_sql(\"select * from dbbikes.weather\", engine)"
   ]
  },
  {
   "cell_type": "code",
   "execution_count": 6,
   "id": "da28c990",
   "metadata": {},
   "outputs": [
    {
     "data": {
      "text/plain": [
       "2296"
      ]
     },
     "execution_count": 6,
     "metadata": {},
     "output_type": "execute_result"
    }
   ],
   "source": [
    "\n",
    "weather_sql.shape[0]"
   ]
  },
  {
   "cell_type": "code",
   "execution_count": 7,
   "id": "021f0477",
   "metadata": {},
   "outputs": [
    {
     "data": {
      "text/plain": [
       "(639425, 4)"
      ]
     },
     "execution_count": 7,
     "metadata": {},
     "output_type": "execute_result"
    }
   ],
   "source": [
    "\n",
    "availability_sql.shape"
   ]
  },
  {
   "cell_type": "code",
   "execution_count": 8,
   "id": "2d31c759",
   "metadata": {},
   "outputs": [
    {
     "data": {
      "text/html": [
       "<div>\n",
       "<style scoped>\n",
       "    .dataframe tbody tr th:only-of-type {\n",
       "        vertical-align: middle;\n",
       "    }\n",
       "\n",
       "    .dataframe tbody tr th {\n",
       "        vertical-align: top;\n",
       "    }\n",
       "\n",
       "    .dataframe thead th {\n",
       "        text-align: right;\n",
       "    }\n",
       "</style>\n",
       "<table border=\"1\" class=\"dataframe\">\n",
       "  <thead>\n",
       "    <tr style=\"text-align: right;\">\n",
       "      <th></th>\n",
       "      <th>available_bike_stands</th>\n",
       "      <th>available_bikes</th>\n",
       "      <th>last_update</th>\n",
       "      <th>number</th>\n",
       "    </tr>\n",
       "  </thead>\n",
       "  <tbody>\n",
       "    <tr>\n",
       "      <th>0</th>\n",
       "      <td>23</td>\n",
       "      <td>7</td>\n",
       "      <td>2147483647</td>\n",
       "      <td>42</td>\n",
       "    </tr>\n",
       "    <tr>\n",
       "      <th>1</th>\n",
       "      <td>14</td>\n",
       "      <td>6</td>\n",
       "      <td>2147483647</td>\n",
       "      <td>30</td>\n",
       "    </tr>\n",
       "    <tr>\n",
       "      <th>2</th>\n",
       "      <td>21</td>\n",
       "      <td>12</td>\n",
       "      <td>2147483647</td>\n",
       "      <td>54</td>\n",
       "    </tr>\n",
       "    <tr>\n",
       "      <th>3</th>\n",
       "      <td>21</td>\n",
       "      <td>14</td>\n",
       "      <td>2147483647</td>\n",
       "      <td>108</td>\n",
       "    </tr>\n",
       "    <tr>\n",
       "      <th>4</th>\n",
       "      <td>14</td>\n",
       "      <td>16</td>\n",
       "      <td>2147483647</td>\n",
       "      <td>20</td>\n",
       "    </tr>\n",
       "  </tbody>\n",
       "</table>\n",
       "</div>"
      ],
      "text/plain": [
       "   available_bike_stands  available_bikes  last_update  number\n",
       "0                     23                7   2147483647      42\n",
       "1                     14                6   2147483647      30\n",
       "2                     21               12   2147483647      54\n",
       "3                     21               14   2147483647     108\n",
       "4                     14               16   2147483647      20"
      ]
     },
     "execution_count": 8,
     "metadata": {},
     "output_type": "execute_result"
    }
   ],
   "source": [
    "\n",
    "availability_sql.head(5)"
   ]
  },
  {
   "cell_type": "code",
   "execution_count": 9,
   "id": "c3e8fadd",
   "metadata": {},
   "outputs": [],
   "source": [
    "\n",
    "df_trimmed = availability_sql.groupby('number').tail(weather_sql.shape[0])\n",
    "\n",
    "\n",
    "df_trimmed = df_trimmed.reset_index(drop=True)"
   ]
  },
  {
   "cell_type": "code",
   "execution_count": 10,
   "id": "805f8326",
   "metadata": {},
   "outputs": [
    {
     "data": {
      "text/plain": [
       "(261897, 4)"
      ]
     },
     "execution_count": 10,
     "metadata": {},
     "output_type": "execute_result"
    }
   ],
   "source": [
    "\n",
    "df_trimmed.shape"
   ]
  },
  {
   "cell_type": "code",
   "execution_count": 11,
   "id": "3e68cc7c",
   "metadata": {},
   "outputs": [
    {
     "data": {
      "text/html": [
       "<div>\n",
       "<style scoped>\n",
       "    .dataframe tbody tr th:only-of-type {\n",
       "        vertical-align: middle;\n",
       "    }\n",
       "\n",
       "    .dataframe tbody tr th {\n",
       "        vertical-align: top;\n",
       "    }\n",
       "\n",
       "    .dataframe thead th {\n",
       "        text-align: right;\n",
       "    }\n",
       "</style>\n",
       "<table border=\"1\" class=\"dataframe\">\n",
       "  <thead>\n",
       "    <tr style=\"text-align: right;\">\n",
       "      <th></th>\n",
       "      <th>available_bike_stands</th>\n",
       "      <th>available_bikes</th>\n",
       "      <th>last_update</th>\n",
       "      <th>number</th>\n",
       "      <th>index</th>\n",
       "      <th>time</th>\n",
       "      <th>cord_long</th>\n",
       "      <th>cord_lat</th>\n",
       "      <th>weather_main</th>\n",
       "      <th>main_temp</th>\n",
       "      <th>main_humidity</th>\n",
       "      <th>wind_speed</th>\n",
       "      <th>wind_degree</th>\n",
       "      <th>sys_sunset</th>\n",
       "      <th>sys_sunrise</th>\n",
       "    </tr>\n",
       "  </thead>\n",
       "  <tbody>\n",
       "    <tr>\n",
       "      <th>0</th>\n",
       "      <td>0</td>\n",
       "      <td>1</td>\n",
       "      <td>2147483647</td>\n",
       "      <td>507</td>\n",
       "      <td>0</td>\n",
       "      <td>2023-03-30 13:53:20</td>\n",
       "      <td>-6.2672</td>\n",
       "      <td>53.344</td>\n",
       "      <td>Clouds</td>\n",
       "      <td>14.61</td>\n",
       "      <td>71.0</td>\n",
       "      <td>4.12</td>\n",
       "      <td>220.0</td>\n",
       "      <td>2023-03-30 18:54:48</td>\n",
       "      <td>2023-03-30 06:04:13</td>\n",
       "    </tr>\n",
       "    <tr>\n",
       "      <th>1</th>\n",
       "      <td>0</td>\n",
       "      <td>1</td>\n",
       "      <td>2147483647</td>\n",
       "      <td>507</td>\n",
       "      <td>1</td>\n",
       "      <td>2023-03-30 13:55:03</td>\n",
       "      <td>-6.2672</td>\n",
       "      <td>53.344</td>\n",
       "      <td>Clouds</td>\n",
       "      <td>14.61</td>\n",
       "      <td>71.0</td>\n",
       "      <td>4.12</td>\n",
       "      <td>220.0</td>\n",
       "      <td>2023-03-30 18:54:48</td>\n",
       "      <td>2023-03-30 06:04:13</td>\n",
       "    </tr>\n",
       "    <tr>\n",
       "      <th>2</th>\n",
       "      <td>0</td>\n",
       "      <td>1</td>\n",
       "      <td>2147483647</td>\n",
       "      <td>507</td>\n",
       "      <td>2</td>\n",
       "      <td>2023-03-30 14:11:04</td>\n",
       "      <td>-6.2672</td>\n",
       "      <td>53.344</td>\n",
       "      <td>Clouds</td>\n",
       "      <td>14.95</td>\n",
       "      <td>72.0</td>\n",
       "      <td>4.92</td>\n",
       "      <td>149.0</td>\n",
       "      <td>2023-03-30 18:54:48</td>\n",
       "      <td>2023-03-30 06:04:13</td>\n",
       "    </tr>\n",
       "    <tr>\n",
       "      <th>3</th>\n",
       "      <td>0</td>\n",
       "      <td>1</td>\n",
       "      <td>2147483647</td>\n",
       "      <td>507</td>\n",
       "      <td>3</td>\n",
       "      <td>2023-03-30 14:11:26</td>\n",
       "      <td>-6.2672</td>\n",
       "      <td>53.344</td>\n",
       "      <td>Clouds</td>\n",
       "      <td>14.95</td>\n",
       "      <td>72.0</td>\n",
       "      <td>4.92</td>\n",
       "      <td>149.0</td>\n",
       "      <td>2023-03-30 18:54:48</td>\n",
       "      <td>2023-03-30 06:04:13</td>\n",
       "    </tr>\n",
       "    <tr>\n",
       "      <th>4</th>\n",
       "      <td>0</td>\n",
       "      <td>1</td>\n",
       "      <td>2147483647</td>\n",
       "      <td>507</td>\n",
       "      <td>4</td>\n",
       "      <td>2023-03-30 14:15:02</td>\n",
       "      <td>-6.2672</td>\n",
       "      <td>53.344</td>\n",
       "      <td>Clouds</td>\n",
       "      <td>14.95</td>\n",
       "      <td>72.0</td>\n",
       "      <td>4.92</td>\n",
       "      <td>149.0</td>\n",
       "      <td>2023-03-30 18:54:48</td>\n",
       "      <td>2023-03-30 06:04:13</td>\n",
       "    </tr>\n",
       "  </tbody>\n",
       "</table>\n",
       "</div>"
      ],
      "text/plain": [
       "   available_bike_stands  available_bikes  last_update  number  index  \\\n",
       "0                      0                1   2147483647     507      0   \n",
       "1                      0                1   2147483647     507      1   \n",
       "2                      0                1   2147483647     507      2   \n",
       "3                      0                1   2147483647     507      3   \n",
       "4                      0                1   2147483647     507      4   \n",
       "\n",
       "                 time  cord_long  cord_lat weather_main  main_temp  \\\n",
       "0 2023-03-30 13:53:20    -6.2672    53.344       Clouds      14.61   \n",
       "1 2023-03-30 13:55:03    -6.2672    53.344       Clouds      14.61   \n",
       "2 2023-03-30 14:11:04    -6.2672    53.344       Clouds      14.95   \n",
       "3 2023-03-30 14:11:26    -6.2672    53.344       Clouds      14.95   \n",
       "4 2023-03-30 14:15:02    -6.2672    53.344       Clouds      14.95   \n",
       "\n",
       "   main_humidity  wind_speed  wind_degree          sys_sunset  \\\n",
       "0           71.0        4.12        220.0 2023-03-30 18:54:48   \n",
       "1           71.0        4.12        220.0 2023-03-30 18:54:48   \n",
       "2           72.0        4.92        149.0 2023-03-30 18:54:48   \n",
       "3           72.0        4.92        149.0 2023-03-30 18:54:48   \n",
       "4           72.0        4.92        149.0 2023-03-30 18:54:48   \n",
       "\n",
       "          sys_sunrise  \n",
       "0 2023-03-30 06:04:13  \n",
       "1 2023-03-30 06:04:13  \n",
       "2 2023-03-30 06:04:13  \n",
       "3 2023-03-30 06:04:13  \n",
       "4 2023-03-30 06:04:13  "
      ]
     },
     "execution_count": 11,
     "metadata": {},
     "output_type": "execute_result"
    }
   ],
   "source": [
    "\n",
    "df_trimmed['index'] = df_trimmed.groupby('number').cumcount()\n",
    "merged_df = df_trimmed.join(weather_sql,on='index', how='left')\n",
    "merged_df.head()"
   ]
  },
  {
   "cell_type": "code",
   "execution_count": 12,
   "id": "b3ba96a0",
   "metadata": {},
   "outputs": [],
   "source": [
    "\n",
    "label_encoder = preprocessing.LabelEncoder()\n",
    "merged_df['weather_main'] = label_encoder.fit_transform(merged_df['weather_main'])"
   ]
  },
  {
   "cell_type": "code",
   "execution_count": 13,
   "id": "0aaa914e",
   "metadata": {},
   "outputs": [
    {
     "data": {
      "text/html": [
       "<div>\n",
       "<style scoped>\n",
       "    .dataframe tbody tr th:only-of-type {\n",
       "        vertical-align: middle;\n",
       "    }\n",
       "\n",
       "    .dataframe tbody tr th {\n",
       "        vertical-align: top;\n",
       "    }\n",
       "\n",
       "    .dataframe thead th {\n",
       "        text-align: right;\n",
       "    }\n",
       "</style>\n",
       "<table border=\"1\" class=\"dataframe\">\n",
       "  <thead>\n",
       "    <tr style=\"text-align: right;\">\n",
       "      <th></th>\n",
       "      <th>available_bike_stands</th>\n",
       "      <th>available_bikes</th>\n",
       "      <th>last_update</th>\n",
       "      <th>number</th>\n",
       "      <th>index</th>\n",
       "      <th>time</th>\n",
       "      <th>cord_long</th>\n",
       "      <th>cord_lat</th>\n",
       "      <th>weather_main</th>\n",
       "      <th>main_temp</th>\n",
       "      <th>main_humidity</th>\n",
       "      <th>wind_speed</th>\n",
       "      <th>wind_degree</th>\n",
       "      <th>sys_sunset</th>\n",
       "      <th>sys_sunrise</th>\n",
       "    </tr>\n",
       "  </thead>\n",
       "  <tbody>\n",
       "    <tr>\n",
       "      <th>261892</th>\n",
       "      <td>20</td>\n",
       "      <td>0</td>\n",
       "      <td>2147483647</td>\n",
       "      <td>39</td>\n",
       "      <td>2295</td>\n",
       "      <td>2023-04-18 09:10:03</td>\n",
       "      <td>-6.2672</td>\n",
       "      <td>53.344</td>\n",
       "      <td>1</td>\n",
       "      <td>10.93</td>\n",
       "      <td>86.0</td>\n",
       "      <td>5.14</td>\n",
       "      <td>90.0</td>\n",
       "      <td>2023-04-18 19:29:08</td>\n",
       "      <td>2023-04-18 05:19:25</td>\n",
       "    </tr>\n",
       "    <tr>\n",
       "      <th>261893</th>\n",
       "      <td>27</td>\n",
       "      <td>13</td>\n",
       "      <td>2147483647</td>\n",
       "      <td>83</td>\n",
       "      <td>2295</td>\n",
       "      <td>2023-04-18 09:10:03</td>\n",
       "      <td>-6.2672</td>\n",
       "      <td>53.344</td>\n",
       "      <td>1</td>\n",
       "      <td>10.93</td>\n",
       "      <td>86.0</td>\n",
       "      <td>5.14</td>\n",
       "      <td>90.0</td>\n",
       "      <td>2023-04-18 19:29:08</td>\n",
       "      <td>2023-04-18 05:19:25</td>\n",
       "    </tr>\n",
       "    <tr>\n",
       "      <th>261894</th>\n",
       "      <td>32</td>\n",
       "      <td>7</td>\n",
       "      <td>2147483647</td>\n",
       "      <td>92</td>\n",
       "      <td>2295</td>\n",
       "      <td>2023-04-18 09:10:03</td>\n",
       "      <td>-6.2672</td>\n",
       "      <td>53.344</td>\n",
       "      <td>1</td>\n",
       "      <td>10.93</td>\n",
       "      <td>86.0</td>\n",
       "      <td>5.14</td>\n",
       "      <td>90.0</td>\n",
       "      <td>2023-04-18 19:29:08</td>\n",
       "      <td>2023-04-18 05:19:25</td>\n",
       "    </tr>\n",
       "    <tr>\n",
       "      <th>261895</th>\n",
       "      <td>0</td>\n",
       "      <td>30</td>\n",
       "      <td>2147483647</td>\n",
       "      <td>21</td>\n",
       "      <td>2295</td>\n",
       "      <td>2023-04-18 09:10:03</td>\n",
       "      <td>-6.2672</td>\n",
       "      <td>53.344</td>\n",
       "      <td>1</td>\n",
       "      <td>10.93</td>\n",
       "      <td>86.0</td>\n",
       "      <td>5.14</td>\n",
       "      <td>90.0</td>\n",
       "      <td>2023-04-18 19:29:08</td>\n",
       "      <td>2023-04-18 05:19:25</td>\n",
       "    </tr>\n",
       "    <tr>\n",
       "      <th>261896</th>\n",
       "      <td>23</td>\n",
       "      <td>7</td>\n",
       "      <td>2147483647</td>\n",
       "      <td>88</td>\n",
       "      <td>2295</td>\n",
       "      <td>2023-04-18 09:10:03</td>\n",
       "      <td>-6.2672</td>\n",
       "      <td>53.344</td>\n",
       "      <td>1</td>\n",
       "      <td>10.93</td>\n",
       "      <td>86.0</td>\n",
       "      <td>5.14</td>\n",
       "      <td>90.0</td>\n",
       "      <td>2023-04-18 19:29:08</td>\n",
       "      <td>2023-04-18 05:19:25</td>\n",
       "    </tr>\n",
       "  </tbody>\n",
       "</table>\n",
       "</div>"
      ],
      "text/plain": [
       "        available_bike_stands  available_bikes  last_update  number  index  \\\n",
       "261892                     20                0   2147483647      39   2295   \n",
       "261893                     27               13   2147483647      83   2295   \n",
       "261894                     32                7   2147483647      92   2295   \n",
       "261895                      0               30   2147483647      21   2295   \n",
       "261896                     23                7   2147483647      88   2295   \n",
       "\n",
       "                      time  cord_long  cord_lat  weather_main  main_temp  \\\n",
       "261892 2023-04-18 09:10:03    -6.2672    53.344             1      10.93   \n",
       "261893 2023-04-18 09:10:03    -6.2672    53.344             1      10.93   \n",
       "261894 2023-04-18 09:10:03    -6.2672    53.344             1      10.93   \n",
       "261895 2023-04-18 09:10:03    -6.2672    53.344             1      10.93   \n",
       "261896 2023-04-18 09:10:03    -6.2672    53.344             1      10.93   \n",
       "\n",
       "        main_humidity  wind_speed  wind_degree          sys_sunset  \\\n",
       "261892           86.0        5.14         90.0 2023-04-18 19:29:08   \n",
       "261893           86.0        5.14         90.0 2023-04-18 19:29:08   \n",
       "261894           86.0        5.14         90.0 2023-04-18 19:29:08   \n",
       "261895           86.0        5.14         90.0 2023-04-18 19:29:08   \n",
       "261896           86.0        5.14         90.0 2023-04-18 19:29:08   \n",
       "\n",
       "               sys_sunrise  \n",
       "261892 2023-04-18 05:19:25  \n",
       "261893 2023-04-18 05:19:25  \n",
       "261894 2023-04-18 05:19:25  \n",
       "261895 2023-04-18 05:19:25  \n",
       "261896 2023-04-18 05:19:25  "
      ]
     },
     "execution_count": 13,
     "metadata": {},
     "output_type": "execute_result"
    }
   ],
   "source": [
    "\n",
    "merged_df.tail()"
   ]
  },
  {
   "cell_type": "code",
   "execution_count": 14,
   "id": "35faf015",
   "metadata": {},
   "outputs": [],
   "source": [
    "\n",
    "merged_df['month'] = merged_df['time'].dt.month\n",
    "merged_df['dayofweek'] = merged_df['time'].dt.dayofweek\n",
    "merged_df['hour'] = merged_df['time'].dt.hour\n",
    "merged_df['minute'] = merged_df['time'].dt.minute"
   ]
  },
  {
   "cell_type": "code",
   "execution_count": 15,
   "id": "80c6cf0f",
   "metadata": {},
   "outputs": [
    {
     "name": "stdout",
     "output_type": "stream",
     "text": [
      "0\n"
     ]
    }
   ],
   "source": [
    "print(merged_df.isnull().sum().sum())"
   ]
  },
  {
   "cell_type": "code",
   "execution_count": 16,
   "id": "48cc8d44",
   "metadata": {},
   "outputs": [
    {
     "data": {
      "text/plain": [
       "available_bike_stands             int64\n",
       "available_bikes                   int64\n",
       "last_update                       int64\n",
       "number                            int64\n",
       "index                             int64\n",
       "time                     datetime64[ns]\n",
       "cord_long                       float64\n",
       "cord_lat                        float64\n",
       "weather_main                      int64\n",
       "main_temp                       float64\n",
       "main_humidity                   float64\n",
       "wind_speed                      float64\n",
       "wind_degree                     float64\n",
       "sys_sunset               datetime64[ns]\n",
       "sys_sunrise              datetime64[ns]\n",
       "month                             int64\n",
       "dayofweek                         int64\n",
       "hour                              int64\n",
       "minute                            int64\n",
       "dtype: object"
      ]
     },
     "execution_count": 16,
     "metadata": {},
     "output_type": "execute_result"
    }
   ],
   "source": [
    "\n",
    "merged_df.dtypes"
   ]
  },
  {
   "cell_type": "code",
   "execution_count": 17,
   "id": "b5117450",
   "metadata": {},
   "outputs": [
    {
     "data": {
      "text/plain": [
       "(261897, 19)"
      ]
     },
     "execution_count": 17,
     "metadata": {},
     "output_type": "execute_result"
    }
   ],
   "source": [
    "merged_df.shape"
   ]
  },
  {
   "cell_type": "code",
   "execution_count": 18,
   "id": "7fcb0a8b",
   "metadata": {},
   "outputs": [
    {
     "name": "stdout",
     "output_type": "stream",
     "text": [
      "Test Set Predictions for Station: \n",
      "        Actual  Predicted\n",
      "255411      27  27.000000\n",
      "112239       0   0.400000\n",
      "11859       12  16.133333\n",
      "65541        2   2.000000\n",
      "73006        3   2.000000\n",
      "...        ...        ...\n",
      "114417       0   0.000000\n",
      "230295      11  11.600000\n",
      "171287       7   8.400000\n",
      "36795        4   3.600000\n",
      "171468       8   6.400000\n",
      "\n",
      "[78570 rows x 2 columns]\n",
      "\n",
      "Mean Absolute Error: 1.00694836875822\n",
      "Mean Squared Error: 4.855455319389646\n",
      "Root Mean Squared Error: 2.2035097729280997\n",
      "The accuracy score :  0.9435041067771579\n"
     ]
    }
   ],
   "source": [
    "\n",
    "X = merged_df[['number','month','hour','minute','weather_main','main_temp','main_humidity','wind_speed','dayofweek']]\n",
    "Y = merged_df.available_bikes\n",
    "X_train, X_test,y_train,y_test = train_test_split(X, Y, test_size=0.3,random_state=0)\n",
    "bikes_model = RandomForestRegressor(n_estimators=15)\n",
    "\n",
    "bikes_model.fit(X_train, y_train)\n",
    "y_pred = bikes_model.predict(X_test)\n",
    "df = pd.DataFrame({'Actual': y_test, 'Predicted': y_pred})\n",
    "\n",
    "\n",
    "print('Test Set Predictions for Station: ')\n",
    "print(df)\n",
    "print()\n",
    "\n",
    "\n",
    "print('Mean Absolute Error:', metrics.mean_absolute_error(y_test, y_pred))\n",
    "print('Mean Squared Error:', metrics.mean_squared_error(y_test, y_pred))\n",
    "print('Root Mean Squared Error:', np.sqrt(metrics.mean_squared_error(y_test, y_pred)))\n",
    "print (\"The accuracy score : \",metrics.r2_score(y_test, y_pred))\n",
    "\n",
    "\n",
    "with open('bikes_model.pkl', 'wb') as handle:\n",
    "    pickle.dump(bikes_model, handle, pickle.HIGHEST_PROTOCOL)"
   ]
  },
  {
   "cell_type": "code",
   "execution_count": 19,
   "id": "e5dff094",
   "metadata": {},
   "outputs": [
    {
     "name": "stdout",
     "output_type": "stream",
     "text": [
      "Test Set Predictions for Station: \n",
      "        Actual  Predicted\n",
      "255411       3   3.266667\n",
      "112239      40  39.666667\n",
      "11859       28  26.533333\n",
      "65541       25  25.000000\n",
      "73006       27  26.400000\n",
      "...        ...        ...\n",
      "114417      30  30.000000\n",
      "230295      17  15.933333\n",
      "171287      32  29.333333\n",
      "36795       26  25.333333\n",
      "171468      32  33.200000\n",
      "\n",
      "[78570 rows x 2 columns]\n",
      "\n",
      "Mean Absolute Error: 1.002229010224428\n",
      "Mean Squared Error: 4.837800404451797\n",
      "Root Mean Squared Error: 2.1995000351106606\n",
      "The accuracy score :  0.9583222575125359\n"
     ]
    }
   ],
   "source": [
    "A = merged_df[['number','month','hour','minute','weather_main','main_temp','main_humidity','wind_speed','dayofweek']]\n",
    "B = merged_df.available_bike_stands\n",
    "A_train, A_test,b_train,b_test = train_test_split(A, B, test_size=0.3,random_state=0)\n",
    "stands_model = RandomForestRegressor(n_estimators=15)\n",
    "\n",
    "stands_model.fit(X_train, b_train)\n",
    "b_pred =stands_model.predict(A_test)\n",
    "df = pd.DataFrame({'Actual': b_test, 'Predicted': b_pred})\n",
    "\n",
    "print('Test Set Predictions for Station: ')\n",
    "print(df)\n",
    "print()\n",
    "\n",
    "#Accuracy score\n",
    "print('Mean Absolute Error:', metrics.mean_absolute_error(b_test, b_pred))\n",
    "print('Mean Squared Error:', metrics.mean_squared_error(b_test, b_pred))\n",
    "print('Root Mean Squared Error:', np.sqrt(metrics.mean_squared_error(b_test, b_pred)))\n",
    "print (\"The accuracy score : \",metrics.r2_score(b_test, b_pred))\n",
    "\n",
    "with open('stands_model.pkl', 'wb') as handle:\n",
    "    pickle.dump(stands_model, handle, pickle.HIGHEST_PROTOCOL)"
   ]
  },
  {
   "cell_type": "code",
   "execution_count": null,
   "id": "a8ca256d",
   "metadata": {},
   "outputs": [],
   "source": []
  },
  {
   "cell_type": "code",
   "execution_count": null,
   "id": "adcc64dc",
   "metadata": {},
   "outputs": [],
   "source": []
  },
  {
   "cell_type": "code",
   "execution_count": null,
   "id": "8d1fe55b",
   "metadata": {},
   "outputs": [],
   "source": []
  }
 ],
 "metadata": {
  "kernelspec": {
   "display_name": "Python 3 (ipykernel)",
   "language": "python",
   "name": "python3"
  },
  "language_info": {
   "codemirror_mode": {
    "name": "ipython",
    "version": 3
   },
   "file_extension": ".py",
   "mimetype": "text/x-python",
   "name": "python",
   "nbconvert_exporter": "python",
   "pygments_lexer": "ipython3",
   "version": "3.9.13"
  }
 },
 "nbformat": 4,
 "nbformat_minor": 5
}
