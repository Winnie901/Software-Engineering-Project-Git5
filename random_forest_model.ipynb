{
 "cells": [
  {
   "cell_type": "markdown",
   "id": "2605da88",
   "metadata": {},
   "source": [
    "## This code for training the random forest model was written using the sources below\n",
    "### https://github.com/MohamedEl1/Dublin-bikes-web-app/blob/master/Data%20Analytics/machine_learning%20.ipynb\n",
    "### https://www.geeksforgeeks.org/ml-label-encoding-of-datasets-in-python/"
   ]
  },
  {
   "cell_type": "code",
   "execution_count": 14,
   "id": "f2e62d5f",
   "metadata": {},
   "outputs": [],
   "source": [
    "\n",
    "import pickle\n",
    "import pandas as pd\n",
    "import numpy as np\n",
    "import sqlalchemy\n",
    "import requests\n",
    "import matplotlib.pyplot as plt\n",
    "import seaborn as sns\n",
    "from sklearn import model_selection\n",
    "from sklearn.linear_model import LogisticRegression\n",
    "from sklearn.linear_model import LinearRegression\n",
    "from sklearn.tree import DecisionTreeRegressor\n",
    "from sklearn.tree import DecisionTreeClassifier\n",
    "from sklearn.ensemble import RandomForestClassifier\n",
    "from sklearn.ensemble import RandomForestRegressor\n",
    "from sklearn import tree\n",
    "import datetime\n",
    "from sklearn import preprocessing\n",
    "from sklearn.model_selection import train_test_split\n",
    "from sklearn import metrics\n",
    "\n",
    "import sqlalchemy as sqla\n",
    "from sqlalchemy import create_engine\n",
    "import traceback\n",
    "import glob\n",
    "import os\n",
    "from pprint import pprint\n",
    "import json\n",
    "import requests\n",
    "import time\n",
    "from IPython.display import display\n",
    "import sys"
   ]
  },
  {
   "cell_type": "code",
   "execution_count": 2,
   "id": "2b197f6d",
   "metadata": {},
   "outputs": [],
   "source": [
    "\n",
    "url = \"dbbikes.cvvkn6jkfbdf.eu-west-1.rds.amazonaws.com\"\n",
    "port = \"3306\"\n",
    "db = \"dbbikes\"\n",
    "user = \"SEGroup25\"\n",
    "password = \"SEGroup25?\"\n",
    "\n"
   ]
  },
  {
   "cell_type": "code",
   "execution_count": 3,
   "id": "34d105ab",
   "metadata": {},
   "outputs": [],
   "source": [
    "\n",
    "engine = create_engine(f\"mysql+mysqldb://{user}:{password}@{url}:{port}/{db}\", echo=True)\n"
   ]
  },
  {
   "cell_type": "code",
   "execution_count": 4,
   "id": "3aa3ab7d",
   "metadata": {},
   "outputs": [
    {
     "name": "stdout",
     "output_type": "stream",
     "text": [
      "2023-04-20 21:44:19,878 INFO sqlalchemy.engine.Engine SELECT DATABASE()\n",
      "2023-04-20 21:44:19,881 INFO sqlalchemy.engine.Engine [raw sql] ()\n",
      "2023-04-20 21:44:19,914 INFO sqlalchemy.engine.Engine SELECT @@sql_mode\n",
      "2023-04-20 21:44:19,915 INFO sqlalchemy.engine.Engine [raw sql] ()\n",
      "2023-04-20 21:44:19,934 INFO sqlalchemy.engine.Engine SELECT @@lower_case_table_names\n",
      "2023-04-20 21:44:19,936 INFO sqlalchemy.engine.Engine [raw sql] ()\n",
      "2023-04-20 21:44:19,998 INFO sqlalchemy.engine.Engine SELECT COUNT(*) FROM information_schema.tables WHERE table_schema = %s AND table_name = %s\n",
      "2023-04-20 21:44:20,002 INFO sqlalchemy.engine.Engine [generated in 0.00304s] ('dbbikes', 'select * from dbbikes.availability')\n",
      "2023-04-20 21:44:20,039 INFO sqlalchemy.engine.Engine select * from dbbikes.availability\n",
      "2023-04-20 21:44:20,042 INFO sqlalchemy.engine.Engine [raw sql] ()\n"
     ]
    }
   ],
   "source": [
    "\n",
    "availability_sql = pd.read_sql(\"select * from dbbikes.availability\", engine)"
   ]
  },
  {
   "cell_type": "code",
   "execution_count": 5,
   "id": "6f8fe060",
   "metadata": {},
   "outputs": [
    {
     "name": "stdout",
     "output_type": "stream",
     "text": [
      "2023-04-20 21:44:23,394 INFO sqlalchemy.engine.Engine SELECT COUNT(*) FROM information_schema.tables WHERE table_schema = %s AND table_name = %s\n",
      "2023-04-20 21:44:23,396 INFO sqlalchemy.engine.Engine [cached since 3.398s ago] ('dbbikes', 'select * from dbbikes.weather')\n",
      "2023-04-20 21:44:23,435 INFO sqlalchemy.engine.Engine select * from dbbikes.weather\n",
      "2023-04-20 21:44:23,436 INFO sqlalchemy.engine.Engine [raw sql] ()\n"
     ]
    }
   ],
   "source": [
    "\n",
    "weather_sql = pd.read_sql(\"select * from dbbikes.weather\", engine)"
   ]
  },
  {
   "cell_type": "code",
   "execution_count": 6,
   "id": "da28c990",
   "metadata": {},
   "outputs": [
    {
     "data": {
      "text/plain": [
       "2753"
      ]
     },
     "execution_count": 6,
     "metadata": {},
     "output_type": "execute_result"
    }
   ],
   "source": [
    "\n",
    "weather_sql.shape[0]"
   ]
  },
  {
   "cell_type": "code",
   "execution_count": 7,
   "id": "021f0477",
   "metadata": {},
   "outputs": [
    {
     "data": {
      "text/plain": [
       "(691584, 4)"
      ]
     },
     "execution_count": 7,
     "metadata": {},
     "output_type": "execute_result"
    }
   ],
   "source": [
    "\n",
    "availability_sql.shape"
   ]
  },
  {
   "cell_type": "code",
   "execution_count": 8,
   "id": "2d31c759",
   "metadata": {},
   "outputs": [
    {
     "data": {
      "text/html": [
       "<div>\n",
       "<style scoped>\n",
       "    .dataframe tbody tr th:only-of-type {\n",
       "        vertical-align: middle;\n",
       "    }\n",
       "\n",
       "    .dataframe tbody tr th {\n",
       "        vertical-align: top;\n",
       "    }\n",
       "\n",
       "    .dataframe thead th {\n",
       "        text-align: right;\n",
       "    }\n",
       "</style>\n",
       "<table border=\"1\" class=\"dataframe\">\n",
       "  <thead>\n",
       "    <tr style=\"text-align: right;\">\n",
       "      <th></th>\n",
       "      <th>available_bike_stands</th>\n",
       "      <th>available_bikes</th>\n",
       "      <th>last_update</th>\n",
       "      <th>number</th>\n",
       "    </tr>\n",
       "  </thead>\n",
       "  <tbody>\n",
       "    <tr>\n",
       "      <th>0</th>\n",
       "      <td>23</td>\n",
       "      <td>7</td>\n",
       "      <td>2147483647</td>\n",
       "      <td>42</td>\n",
       "    </tr>\n",
       "    <tr>\n",
       "      <th>1</th>\n",
       "      <td>14</td>\n",
       "      <td>6</td>\n",
       "      <td>2147483647</td>\n",
       "      <td>30</td>\n",
       "    </tr>\n",
       "    <tr>\n",
       "      <th>2</th>\n",
       "      <td>21</td>\n",
       "      <td>12</td>\n",
       "      <td>2147483647</td>\n",
       "      <td>54</td>\n",
       "    </tr>\n",
       "    <tr>\n",
       "      <th>3</th>\n",
       "      <td>21</td>\n",
       "      <td>14</td>\n",
       "      <td>2147483647</td>\n",
       "      <td>108</td>\n",
       "    </tr>\n",
       "    <tr>\n",
       "      <th>4</th>\n",
       "      <td>14</td>\n",
       "      <td>16</td>\n",
       "      <td>2147483647</td>\n",
       "      <td>20</td>\n",
       "    </tr>\n",
       "  </tbody>\n",
       "</table>\n",
       "</div>"
      ],
      "text/plain": [
       "   available_bike_stands  available_bikes  last_update  number\n",
       "0                     23                7   2147483647      42\n",
       "1                     14                6   2147483647      30\n",
       "2                     21               12   2147483647      54\n",
       "3                     21               14   2147483647     108\n",
       "4                     14               16   2147483647      20"
      ]
     },
     "execution_count": 8,
     "metadata": {},
     "output_type": "execute_result"
    }
   ],
   "source": [
    "\n",
    "availability_sql.head(5)"
   ]
  },
  {
   "cell_type": "code",
   "execution_count": 9,
   "id": "c3e8fadd",
   "metadata": {},
   "outputs": [],
   "source": [
    "\n",
    "df_trimmed = availability_sql.groupby('number').tail(weather_sql.shape[0])\n",
    "\n",
    "\n",
    "df_trimmed = df_trimmed.reset_index(drop=True)"
   ]
  },
  {
   "cell_type": "code",
   "execution_count": 10,
   "id": "805f8326",
   "metadata": {},
   "outputs": [
    {
     "data": {
      "text/plain": [
       "(313995, 4)"
      ]
     },
     "execution_count": 10,
     "metadata": {},
     "output_type": "execute_result"
    }
   ],
   "source": [
    "\n",
    "df_trimmed.shape"
   ]
  },
  {
   "cell_type": "code",
   "execution_count": 11,
   "id": "3e68cc7c",
   "metadata": {},
   "outputs": [
    {
     "data": {
      "text/html": [
       "<div>\n",
       "<style scoped>\n",
       "    .dataframe tbody tr th:only-of-type {\n",
       "        vertical-align: middle;\n",
       "    }\n",
       "\n",
       "    .dataframe tbody tr th {\n",
       "        vertical-align: top;\n",
       "    }\n",
       "\n",
       "    .dataframe thead th {\n",
       "        text-align: right;\n",
       "    }\n",
       "</style>\n",
       "<table border=\"1\" class=\"dataframe\">\n",
       "  <thead>\n",
       "    <tr style=\"text-align: right;\">\n",
       "      <th></th>\n",
       "      <th>available_bike_stands</th>\n",
       "      <th>available_bikes</th>\n",
       "      <th>last_update</th>\n",
       "      <th>number</th>\n",
       "      <th>index</th>\n",
       "      <th>time</th>\n",
       "      <th>cord_long</th>\n",
       "      <th>cord_lat</th>\n",
       "      <th>weather_main</th>\n",
       "      <th>main_temp</th>\n",
       "      <th>main_humidity</th>\n",
       "      <th>wind_speed</th>\n",
       "      <th>wind_degree</th>\n",
       "      <th>sys_sunset</th>\n",
       "      <th>sys_sunrise</th>\n",
       "    </tr>\n",
       "  </thead>\n",
       "  <tbody>\n",
       "    <tr>\n",
       "      <th>0</th>\n",
       "      <td>0</td>\n",
       "      <td>1</td>\n",
       "      <td>2147483647</td>\n",
       "      <td>507</td>\n",
       "      <td>0</td>\n",
       "      <td>2023-03-30 13:53:20</td>\n",
       "      <td>-6.2672</td>\n",
       "      <td>53.344</td>\n",
       "      <td>Clouds</td>\n",
       "      <td>14.61</td>\n",
       "      <td>71.0</td>\n",
       "      <td>4.12</td>\n",
       "      <td>220.0</td>\n",
       "      <td>2023-03-30 18:54:48</td>\n",
       "      <td>2023-03-30 06:04:13</td>\n",
       "    </tr>\n",
       "    <tr>\n",
       "      <th>1</th>\n",
       "      <td>0</td>\n",
       "      <td>1</td>\n",
       "      <td>2147483647</td>\n",
       "      <td>507</td>\n",
       "      <td>1</td>\n",
       "      <td>2023-03-30 13:55:03</td>\n",
       "      <td>-6.2672</td>\n",
       "      <td>53.344</td>\n",
       "      <td>Clouds</td>\n",
       "      <td>14.61</td>\n",
       "      <td>71.0</td>\n",
       "      <td>4.12</td>\n",
       "      <td>220.0</td>\n",
       "      <td>2023-03-30 18:54:48</td>\n",
       "      <td>2023-03-30 06:04:13</td>\n",
       "    </tr>\n",
       "    <tr>\n",
       "      <th>2</th>\n",
       "      <td>0</td>\n",
       "      <td>1</td>\n",
       "      <td>2147483647</td>\n",
       "      <td>507</td>\n",
       "      <td>2</td>\n",
       "      <td>2023-03-30 14:11:04</td>\n",
       "      <td>-6.2672</td>\n",
       "      <td>53.344</td>\n",
       "      <td>Clouds</td>\n",
       "      <td>14.95</td>\n",
       "      <td>72.0</td>\n",
       "      <td>4.92</td>\n",
       "      <td>149.0</td>\n",
       "      <td>2023-03-30 18:54:48</td>\n",
       "      <td>2023-03-30 06:04:13</td>\n",
       "    </tr>\n",
       "    <tr>\n",
       "      <th>3</th>\n",
       "      <td>0</td>\n",
       "      <td>1</td>\n",
       "      <td>2147483647</td>\n",
       "      <td>507</td>\n",
       "      <td>3</td>\n",
       "      <td>2023-03-30 14:11:26</td>\n",
       "      <td>-6.2672</td>\n",
       "      <td>53.344</td>\n",
       "      <td>Clouds</td>\n",
       "      <td>14.95</td>\n",
       "      <td>72.0</td>\n",
       "      <td>4.92</td>\n",
       "      <td>149.0</td>\n",
       "      <td>2023-03-30 18:54:48</td>\n",
       "      <td>2023-03-30 06:04:13</td>\n",
       "    </tr>\n",
       "    <tr>\n",
       "      <th>4</th>\n",
       "      <td>0</td>\n",
       "      <td>1</td>\n",
       "      <td>2147483647</td>\n",
       "      <td>507</td>\n",
       "      <td>4</td>\n",
       "      <td>2023-03-30 14:15:02</td>\n",
       "      <td>-6.2672</td>\n",
       "      <td>53.344</td>\n",
       "      <td>Clouds</td>\n",
       "      <td>14.95</td>\n",
       "      <td>72.0</td>\n",
       "      <td>4.92</td>\n",
       "      <td>149.0</td>\n",
       "      <td>2023-03-30 18:54:48</td>\n",
       "      <td>2023-03-30 06:04:13</td>\n",
       "    </tr>\n",
       "  </tbody>\n",
       "</table>\n",
       "</div>"
      ],
      "text/plain": [
       "   available_bike_stands  available_bikes  last_update  number  index  \\\n",
       "0                      0                1   2147483647     507      0   \n",
       "1                      0                1   2147483647     507      1   \n",
       "2                      0                1   2147483647     507      2   \n",
       "3                      0                1   2147483647     507      3   \n",
       "4                      0                1   2147483647     507      4   \n",
       "\n",
       "                 time  cord_long  cord_lat weather_main  main_temp  \\\n",
       "0 2023-03-30 13:53:20    -6.2672    53.344       Clouds      14.61   \n",
       "1 2023-03-30 13:55:03    -6.2672    53.344       Clouds      14.61   \n",
       "2 2023-03-30 14:11:04    -6.2672    53.344       Clouds      14.95   \n",
       "3 2023-03-30 14:11:26    -6.2672    53.344       Clouds      14.95   \n",
       "4 2023-03-30 14:15:02    -6.2672    53.344       Clouds      14.95   \n",
       "\n",
       "   main_humidity  wind_speed  wind_degree          sys_sunset  \\\n",
       "0           71.0        4.12        220.0 2023-03-30 18:54:48   \n",
       "1           71.0        4.12        220.0 2023-03-30 18:54:48   \n",
       "2           72.0        4.92        149.0 2023-03-30 18:54:48   \n",
       "3           72.0        4.92        149.0 2023-03-30 18:54:48   \n",
       "4           72.0        4.92        149.0 2023-03-30 18:54:48   \n",
       "\n",
       "          sys_sunrise  \n",
       "0 2023-03-30 06:04:13  \n",
       "1 2023-03-30 06:04:13  \n",
       "2 2023-03-30 06:04:13  \n",
       "3 2023-03-30 06:04:13  \n",
       "4 2023-03-30 06:04:13  "
      ]
     },
     "execution_count": 11,
     "metadata": {},
     "output_type": "execute_result"
    }
   ],
   "source": [
    "\n",
    "df_trimmed['index'] = df_trimmed.groupby('number').cumcount()\n",
    "merged_df = df_trimmed.join(weather_sql,on='index', how='left')\n",
    "merged_df.head()"
   ]
  },
  {
   "cell_type": "code",
   "execution_count": 12,
   "id": "b3ba96a0",
   "metadata": {},
   "outputs": [],
   "source": [
    "\n",
    "label_encoder = preprocessing.LabelEncoder()\n",
    "merged_df['weather_main'] = label_encoder.fit_transform(merged_df['weather_main'])"
   ]
  },
  {
   "cell_type": "code",
   "execution_count": 15,
   "id": "0aaa914e",
   "metadata": {},
   "outputs": [
    {
     "data": {
      "text/html": [
       "<div>\n",
       "<style scoped>\n",
       "    .dataframe tbody tr th:only-of-type {\n",
       "        vertical-align: middle;\n",
       "    }\n",
       "\n",
       "    .dataframe tbody tr th {\n",
       "        vertical-align: top;\n",
       "    }\n",
       "\n",
       "    .dataframe thead th {\n",
       "        text-align: right;\n",
       "    }\n",
       "</style>\n",
       "<table border=\"1\" class=\"dataframe\">\n",
       "  <thead>\n",
       "    <tr style=\"text-align: right;\">\n",
       "      <th></th>\n",
       "      <th>available_bike_stands</th>\n",
       "      <th>available_bikes</th>\n",
       "      <th>last_update</th>\n",
       "      <th>number</th>\n",
       "      <th>index</th>\n",
       "      <th>time</th>\n",
       "      <th>cord_long</th>\n",
       "      <th>cord_lat</th>\n",
       "      <th>weather_main</th>\n",
       "      <th>main_temp</th>\n",
       "      <th>main_humidity</th>\n",
       "      <th>wind_speed</th>\n",
       "      <th>wind_degree</th>\n",
       "      <th>sys_sunset</th>\n",
       "      <th>sys_sunrise</th>\n",
       "    </tr>\n",
       "  </thead>\n",
       "  <tbody>\n",
       "    <tr>\n",
       "      <th>313990</th>\n",
       "      <td>20</td>\n",
       "      <td>0</td>\n",
       "      <td>2147483647</td>\n",
       "      <td>39</td>\n",
       "      <td>2752</td>\n",
       "      <td>2023-04-20 11:45:03</td>\n",
       "      <td>-6.2672</td>\n",
       "      <td>53.344</td>\n",
       "      <td>1</td>\n",
       "      <td>11.26</td>\n",
       "      <td>69.0</td>\n",
       "      <td>8.23</td>\n",
       "      <td>100.0</td>\n",
       "      <td>2023-04-20 19:32:46</td>\n",
       "      <td>2023-04-20 05:14:57</td>\n",
       "    </tr>\n",
       "    <tr>\n",
       "      <th>313991</th>\n",
       "      <td>20</td>\n",
       "      <td>20</td>\n",
       "      <td>2147483647</td>\n",
       "      <td>83</td>\n",
       "      <td>2752</td>\n",
       "      <td>2023-04-20 11:45:03</td>\n",
       "      <td>-6.2672</td>\n",
       "      <td>53.344</td>\n",
       "      <td>1</td>\n",
       "      <td>11.26</td>\n",
       "      <td>69.0</td>\n",
       "      <td>8.23</td>\n",
       "      <td>100.0</td>\n",
       "      <td>2023-04-20 19:32:46</td>\n",
       "      <td>2023-04-20 05:14:57</td>\n",
       "    </tr>\n",
       "    <tr>\n",
       "      <th>313992</th>\n",
       "      <td>35</td>\n",
       "      <td>5</td>\n",
       "      <td>2147483647</td>\n",
       "      <td>92</td>\n",
       "      <td>2752</td>\n",
       "      <td>2023-04-20 11:45:03</td>\n",
       "      <td>-6.2672</td>\n",
       "      <td>53.344</td>\n",
       "      <td>1</td>\n",
       "      <td>11.26</td>\n",
       "      <td>69.0</td>\n",
       "      <td>8.23</td>\n",
       "      <td>100.0</td>\n",
       "      <td>2023-04-20 19:32:46</td>\n",
       "      <td>2023-04-20 05:14:57</td>\n",
       "    </tr>\n",
       "    <tr>\n",
       "      <th>313993</th>\n",
       "      <td>12</td>\n",
       "      <td>18</td>\n",
       "      <td>2147483647</td>\n",
       "      <td>21</td>\n",
       "      <td>2752</td>\n",
       "      <td>2023-04-20 11:45:03</td>\n",
       "      <td>-6.2672</td>\n",
       "      <td>53.344</td>\n",
       "      <td>1</td>\n",
       "      <td>11.26</td>\n",
       "      <td>69.0</td>\n",
       "      <td>8.23</td>\n",
       "      <td>100.0</td>\n",
       "      <td>2023-04-20 19:32:46</td>\n",
       "      <td>2023-04-20 05:14:57</td>\n",
       "    </tr>\n",
       "    <tr>\n",
       "      <th>313994</th>\n",
       "      <td>17</td>\n",
       "      <td>13</td>\n",
       "      <td>2147483647</td>\n",
       "      <td>88</td>\n",
       "      <td>2752</td>\n",
       "      <td>2023-04-20 11:45:03</td>\n",
       "      <td>-6.2672</td>\n",
       "      <td>53.344</td>\n",
       "      <td>1</td>\n",
       "      <td>11.26</td>\n",
       "      <td>69.0</td>\n",
       "      <td>8.23</td>\n",
       "      <td>100.0</td>\n",
       "      <td>2023-04-20 19:32:46</td>\n",
       "      <td>2023-04-20 05:14:57</td>\n",
       "    </tr>\n",
       "  </tbody>\n",
       "</table>\n",
       "</div>"
      ],
      "text/plain": [
       "        available_bike_stands  available_bikes  last_update  number  index  \\\n",
       "313990                     20                0   2147483647      39   2752   \n",
       "313991                     20               20   2147483647      83   2752   \n",
       "313992                     35                5   2147483647      92   2752   \n",
       "313993                     12               18   2147483647      21   2752   \n",
       "313994                     17               13   2147483647      88   2752   \n",
       "\n",
       "                      time  cord_long  cord_lat  weather_main  main_temp  \\\n",
       "313990 2023-04-20 11:45:03    -6.2672    53.344             1      11.26   \n",
       "313991 2023-04-20 11:45:03    -6.2672    53.344             1      11.26   \n",
       "313992 2023-04-20 11:45:03    -6.2672    53.344             1      11.26   \n",
       "313993 2023-04-20 11:45:03    -6.2672    53.344             1      11.26   \n",
       "313994 2023-04-20 11:45:03    -6.2672    53.344             1      11.26   \n",
       "\n",
       "        main_humidity  wind_speed  wind_degree          sys_sunset  \\\n",
       "313990           69.0        8.23        100.0 2023-04-20 19:32:46   \n",
       "313991           69.0        8.23        100.0 2023-04-20 19:32:46   \n",
       "313992           69.0        8.23        100.0 2023-04-20 19:32:46   \n",
       "313993           69.0        8.23        100.0 2023-04-20 19:32:46   \n",
       "313994           69.0        8.23        100.0 2023-04-20 19:32:46   \n",
       "\n",
       "               sys_sunrise  \n",
       "313990 2023-04-20 05:14:57  \n",
       "313991 2023-04-20 05:14:57  \n",
       "313992 2023-04-20 05:14:57  \n",
       "313993 2023-04-20 05:14:57  \n",
       "313994 2023-04-20 05:14:57  "
      ]
     },
     "execution_count": 15,
     "metadata": {},
     "output_type": "execute_result"
    }
   ],
   "source": [
    "\n",
    "merged_df.tail()"
   ]
  },
  {
   "cell_type": "code",
   "execution_count": 16,
   "id": "35faf015",
   "metadata": {},
   "outputs": [],
   "source": [
    "\n",
    "merged_df['month'] = merged_df['time'].dt.month\n",
    "merged_df['dayofweek'] = merged_df['time'].dt.dayofweek\n",
    "merged_df['hour'] = merged_df['time'].dt.hour\n",
    "merged_df['minute'] = merged_df['time'].dt.minute"
   ]
  },
  {
   "cell_type": "code",
   "execution_count": 17,
   "id": "80c6cf0f",
   "metadata": {},
   "outputs": [
    {
     "name": "stdout",
     "output_type": "stream",
     "text": [
      "0\n"
     ]
    }
   ],
   "source": [
    "print(merged_df.isnull().sum().sum())"
   ]
  },
  {
   "cell_type": "code",
   "execution_count": 18,
   "id": "48cc8d44",
   "metadata": {},
   "outputs": [
    {
     "data": {
      "text/plain": [
       "available_bike_stands             int64\n",
       "available_bikes                   int64\n",
       "last_update                       int64\n",
       "number                            int64\n",
       "index                             int64\n",
       "time                     datetime64[ns]\n",
       "cord_long                       float64\n",
       "cord_lat                        float64\n",
       "weather_main                      int64\n",
       "main_temp                       float64\n",
       "main_humidity                   float64\n",
       "wind_speed                      float64\n",
       "wind_degree                     float64\n",
       "sys_sunset               datetime64[ns]\n",
       "sys_sunrise              datetime64[ns]\n",
       "month                             int64\n",
       "dayofweek                         int64\n",
       "hour                              int64\n",
       "minute                            int64\n",
       "dtype: object"
      ]
     },
     "execution_count": 18,
     "metadata": {},
     "output_type": "execute_result"
    }
   ],
   "source": [
    "\n",
    "merged_df.dtypes"
   ]
  },
  {
   "cell_type": "code",
   "execution_count": 19,
   "id": "b5117450",
   "metadata": {},
   "outputs": [
    {
     "data": {
      "text/plain": [
       "(313995, 19)"
      ]
     },
     "execution_count": 19,
     "metadata": {},
     "output_type": "execute_result"
    }
   ],
   "source": [
    "merged_df.shape"
   ]
  },
  {
   "cell_type": "code",
   "execution_count": 20,
   "id": "7fcb0a8b",
   "metadata": {},
   "outputs": [
    {
     "name": "stdout",
     "output_type": "stream",
     "text": [
      "Predictions for Bikes: \n",
      "        Actual  Predicted\n",
      "115168      25  26.333333\n",
      "186416      11  11.000000\n",
      "229124      11  11.066667\n",
      "232423       2   1.266667\n",
      "249669       1   1.000000\n",
      "...        ...        ...\n",
      "244943       6   4.533333\n",
      "32521        6   7.066667\n",
      "66391        6   6.666667\n",
      "137557      11  12.666667\n",
      "48277       13  14.133333\n",
      "\n",
      "[94199 rows x 2 columns]\n",
      "\n",
      "Mean Absolute Error: 0.965132670557675\n",
      "Mean Squared Error: 4.465499337071113\n",
      "Root Mean Squared Error: 2.1131728128743075\n",
      "Accuracy score :  0.9494020256425311\n"
     ]
    }
   ],
   "source": [
    "\n",
    "X = merged_df[['number','month','hour','minute','weather_main','main_temp','main_humidity','wind_speed','dayofweek']]\n",
    "Y = merged_df.available_bikes\n",
    "X_train, X_test,y_train,y_test = train_test_split(X, Y, test_size=0.3,random_state=0)\n",
    "bikes_model = RandomForestRegressor(n_estimators=15)\n",
    "\n",
    "bikes_model.fit(X_train, y_train)\n",
    "y_pred = bikes_model.predict(X_test)\n",
    "df = pd.DataFrame({'Actual': y_test, 'Predicted': y_pred})\n",
    "\n",
    "\n",
    "print('Predictions for Bikes: ')\n",
    "print(df)\n",
    "print()\n",
    "\n",
    "\n",
    "print('Mean Absolute Error:', metrics.mean_absolute_error(y_test, y_pred))\n",
    "print('Mean Squared Error:', metrics.mean_squared_error(y_test, y_pred))\n",
    "print('Root Mean Squared Error:', np.sqrt(metrics.mean_squared_error(y_test, y_pred)))\n",
    "print (\"Accuracy score : \",metrics.r2_score(y_test, y_pred))\n",
    "\n",
    "\n",
    "with open('bikes_model.pkl', 'wb') as handle:\n",
    "    pickle.dump(bikes_model, handle, pickle.HIGHEST_PROTOCOL)"
   ]
  },
  {
   "cell_type": "code",
   "execution_count": 21,
   "id": "e5dff094",
   "metadata": {},
   "outputs": [
    {
     "name": "stdout",
     "output_type": "stream",
     "text": [
      "Predictions for Bike Stands: \n",
      "        Actual  Predicted\n",
      "115168      15  13.733333\n",
      "186416      19  19.000000\n",
      "229124       9   8.733333\n",
      "232423      28  29.000000\n",
      "249669      39  39.000000\n",
      "...        ...        ...\n",
      "244943      14  14.000000\n",
      "32521       34  34.466667\n",
      "66391       33  32.066667\n",
      "137557      18  16.533333\n",
      "48277        6   8.466667\n",
      "\n",
      "[94199 rows x 2 columns]\n",
      "\n",
      "Mean Absolute Error: 0.9562847767231042\n",
      "Mean Squared Error: 4.541312889135377\n",
      "Root Mean Squared Error: 2.1310356376971686\n",
      "Accuracy Score :  0.9609815047655029\n"
     ]
    }
   ],
   "source": [
    "A = merged_df[['number','month','hour','minute','weather_main','main_temp','main_humidity','wind_speed','dayofweek']]\n",
    "B = merged_df.available_bike_stands\n",
    "A_train, A_test,b_train,b_test = train_test_split(A, B, test_size=0.3,random_state=0)\n",
    "stands_model = RandomForestRegressor(n_estimators=15)\n",
    "\n",
    "stands_model.fit(X_train, b_train)\n",
    "b_pred =stands_model.predict(A_test)\n",
    "df = pd.DataFrame({'Actual': b_test, 'Predicted': b_pred})\n",
    "\n",
    "print('Predictions for Bike Stands: ')\n",
    "print(df)\n",
    "print()\n",
    "\n",
    "print('Mean Absolute Error:', metrics.mean_absolute_error(b_test, b_pred))\n",
    "print('Mean Squared Error:', metrics.mean_squared_error(b_test, b_pred))\n",
    "print('Root Mean Squared Error:', np.sqrt(metrics.mean_squared_error(b_test, b_pred)))\n",
    "print (\"Accuracy Score : \",metrics.r2_score(b_test, b_pred))\n",
    "\n",
    "with open('stands_model.pkl', 'wb') as handle:\n",
    "    pickle.dump(stands_model, handle, pickle.HIGHEST_PROTOCOL)"
   ]
  },
  {
   "cell_type": "code",
   "execution_count": null,
   "id": "a8ca256d",
   "metadata": {},
   "outputs": [],
   "source": []
  },
  {
   "cell_type": "code",
   "execution_count": null,
   "id": "adcc64dc",
   "metadata": {},
   "outputs": [],
   "source": []
  },
  {
   "cell_type": "code",
   "execution_count": null,
   "id": "8d1fe55b",
   "metadata": {},
   "outputs": [],
   "source": []
  }
 ],
 "metadata": {
  "kernelspec": {
   "display_name": "Python 3 (ipykernel)",
   "language": "python",
   "name": "python3"
  },
  "language_info": {
   "codemirror_mode": {
    "name": "ipython",
    "version": 3
   },
   "file_extension": ".py",
   "mimetype": "text/x-python",
   "name": "python",
   "nbconvert_exporter": "python",
   "pygments_lexer": "ipython3",
   "version": "3.9.13"
  }
 },
 "nbformat": 4,
 "nbformat_minor": 5
}
