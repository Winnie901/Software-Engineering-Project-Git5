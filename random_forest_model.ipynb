{
 "cells": [
  {
   "cell_type": "code",
   "execution_count": 1,
   "id": "c0733db7",
   "metadata": {},
   "outputs": [],
   "source": [
    "#*************************\n",
    "import pickle\n",
    "import pandas as pd\n",
    "import numpy as np\n",
    "import sqlalchemy\n",
    "import requests\n",
    "import matplotlib.pyplot as plt\n",
    "import seaborn as sns\n",
    "from sklearn import model_selection\n",
    "from sklearn.linear_model import LogisticRegression\n",
    "from sklearn.linear_model import LinearRegression\n",
    "from sklearn.tree import DecisionTreeRegressor\n",
    "from sklearn.tree import DecisionTreeClassifier\n",
    "from sklearn.ensemble import RandomForestClassifier\n",
    "from sklearn.ensemble import RandomForestRegressor\n",
    "from sklearn import tree\n",
    "import datetime\n",
    "from sklearn import preprocessing\n",
    "from sklearn.model_selection import train_test_split\n",
    "from sklearn import metrics\n",
    "\n",
    "import sqlalchemy as sqla\n",
    "from sqlalchemy import create_engine\n",
    "import traceback\n",
    "import glob\n",
    "import os\n",
    "from pprint import pprint\n",
    "import json\n",
    "import requests\n",
    "import time\n",
    "from IPython.display import display\n",
    "import sys"
   ]
  },
  {
   "cell_type": "code",
   "execution_count": 2,
   "id": "2b197f6d",
   "metadata": {},
   "outputs": [],
   "source": [
    "#*************************\n",
    "url = \"dbbikes.cvvkn6jkfbdf.eu-west-1.rds.amazonaws.com\"\n",
    "port = \"3306\"\n",
    "db = \"dbbikes\"\n",
    "user = \"SEGroup25\"\n",
    "password = \"SEGroup25?\"\n",
    "\n"
   ]
  },
  {
   "cell_type": "code",
   "execution_count": 3,
   "id": "34d105ab",
   "metadata": {},
   "outputs": [],
   "source": [
    "#*************************\n",
    "engine = create_engine(f\"mysql+mysqldb://{user}:{password}@{url}:{port}/{db}\", echo=True)\n"
   ]
  },
  {
   "cell_type": "code",
   "execution_count": 4,
   "id": "3aa3ab7d",
   "metadata": {},
   "outputs": [
    {
     "name": "stdout",
     "output_type": "stream",
     "text": [
      "2023-04-12 21:15:34,894 INFO sqlalchemy.engine.Engine SELECT DATABASE()\n",
      "2023-04-12 21:15:34,897 INFO sqlalchemy.engine.Engine [raw sql] ()\n",
      "2023-04-12 21:15:34,927 INFO sqlalchemy.engine.Engine SELECT @@sql_mode\n",
      "2023-04-12 21:15:34,929 INFO sqlalchemy.engine.Engine [raw sql] ()\n",
      "2023-04-12 21:15:34,950 INFO sqlalchemy.engine.Engine SELECT @@lower_case_table_names\n",
      "2023-04-12 21:15:34,951 INFO sqlalchemy.engine.Engine [raw sql] ()\n",
      "2023-04-12 21:15:35,009 INFO sqlalchemy.engine.Engine SELECT COUNT(*) FROM information_schema.tables WHERE table_schema = %s AND table_name = %s\n",
      "2023-04-12 21:15:35,012 INFO sqlalchemy.engine.Engine [generated in 0.00152s] ('dbbikes', 'select * from dbbikes.availability')\n",
      "2023-04-12 21:15:35,059 INFO sqlalchemy.engine.Engine select * from dbbikes.availability\n",
      "2023-04-12 21:15:35,060 INFO sqlalchemy.engine.Engine [raw sql] ()\n"
     ]
    }
   ],
   "source": [
    "#*************************\n",
    "availability_sql = pd.read_sql(\"select * from dbbikes.availability\", engine)"
   ]
  },
  {
   "cell_type": "code",
   "execution_count": 5,
   "id": "6f8fe060",
   "metadata": {},
   "outputs": [
    {
     "name": "stdout",
     "output_type": "stream",
     "text": [
      "2023-04-12 21:15:38,899 INFO sqlalchemy.engine.Engine SELECT COUNT(*) FROM information_schema.tables WHERE table_schema = %s AND table_name = %s\n",
      "2023-04-12 21:15:38,900 INFO sqlalchemy.engine.Engine [cached since 3.892s ago] ('dbbikes', 'select * from dbbikes.weather')\n",
      "2023-04-12 21:15:38,935 INFO sqlalchemy.engine.Engine select * from dbbikes.weather\n",
      "2023-04-12 21:15:38,936 INFO sqlalchemy.engine.Engine [raw sql] ()\n"
     ]
    }
   ],
   "source": [
    "#*************************\n",
    "weather_sql = pd.read_sql(\"select * from dbbikes.weather\", engine)"
   ]
  },
  {
   "cell_type": "code",
   "execution_count": 6,
   "id": "da28c990",
   "metadata": {},
   "outputs": [
    {
     "data": {
      "text/plain": [
       "701"
      ]
     },
     "execution_count": 6,
     "metadata": {},
     "output_type": "execute_result"
    }
   ],
   "source": [
    "#*************************\n",
    "weather_sql.shape[0]"
   ]
  },
  {
   "cell_type": "code",
   "execution_count": 7,
   "id": "021f0477",
   "metadata": {},
   "outputs": [
    {
     "data": {
      "text/plain": [
       "(457595, 4)"
      ]
     },
     "execution_count": 7,
     "metadata": {},
     "output_type": "execute_result"
    }
   ],
   "source": [
    "#*************************\n",
    "availability_sql.shape"
   ]
  },
  {
   "cell_type": "code",
   "execution_count": 8,
   "id": "2d31c759",
   "metadata": {},
   "outputs": [
    {
     "data": {
      "text/html": [
       "<div>\n",
       "<style scoped>\n",
       "    .dataframe tbody tr th:only-of-type {\n",
       "        vertical-align: middle;\n",
       "    }\n",
       "\n",
       "    .dataframe tbody tr th {\n",
       "        vertical-align: top;\n",
       "    }\n",
       "\n",
       "    .dataframe thead th {\n",
       "        text-align: right;\n",
       "    }\n",
       "</style>\n",
       "<table border=\"1\" class=\"dataframe\">\n",
       "  <thead>\n",
       "    <tr style=\"text-align: right;\">\n",
       "      <th></th>\n",
       "      <th>available_bike_stands</th>\n",
       "      <th>available_bikes</th>\n",
       "      <th>last_update</th>\n",
       "      <th>number</th>\n",
       "    </tr>\n",
       "  </thead>\n",
       "  <tbody>\n",
       "    <tr>\n",
       "      <th>0</th>\n",
       "      <td>23</td>\n",
       "      <td>7</td>\n",
       "      <td>2147483647</td>\n",
       "      <td>42</td>\n",
       "    </tr>\n",
       "    <tr>\n",
       "      <th>1</th>\n",
       "      <td>14</td>\n",
       "      <td>6</td>\n",
       "      <td>2147483647</td>\n",
       "      <td>30</td>\n",
       "    </tr>\n",
       "    <tr>\n",
       "      <th>2</th>\n",
       "      <td>21</td>\n",
       "      <td>12</td>\n",
       "      <td>2147483647</td>\n",
       "      <td>54</td>\n",
       "    </tr>\n",
       "    <tr>\n",
       "      <th>3</th>\n",
       "      <td>21</td>\n",
       "      <td>14</td>\n",
       "      <td>2147483647</td>\n",
       "      <td>108</td>\n",
       "    </tr>\n",
       "    <tr>\n",
       "      <th>4</th>\n",
       "      <td>14</td>\n",
       "      <td>16</td>\n",
       "      <td>2147483647</td>\n",
       "      <td>20</td>\n",
       "    </tr>\n",
       "  </tbody>\n",
       "</table>\n",
       "</div>"
      ],
      "text/plain": [
       "   available_bike_stands  available_bikes  last_update  number\n",
       "0                     23                7   2147483647      42\n",
       "1                     14                6   2147483647      30\n",
       "2                     21               12   2147483647      54\n",
       "3                     21               14   2147483647     108\n",
       "4                     14               16   2147483647      20"
      ]
     },
     "execution_count": 8,
     "metadata": {},
     "output_type": "execute_result"
    }
   ],
   "source": [
    "#*************************\n",
    "availability_sql.head(5)"
   ]
  },
  {
   "cell_type": "code",
   "execution_count": 9,
   "id": "c3e8fadd",
   "metadata": {},
   "outputs": [],
   "source": [
    "#*************************\n",
    "# group by \"category\" and select first 300 rows of each group\n",
    "df_trimmed = availability_sql.groupby('number').tail(weather_sql.shape[0])\n",
    "\n",
    "# reset index of trimmed dataframe\n",
    "df_trimmed = df_trimmed.reset_index(drop=True)"
   ]
  },
  {
   "cell_type": "code",
   "execution_count": 10,
   "id": "805f8326",
   "metadata": {},
   "outputs": [
    {
     "data": {
      "text/plain": [
       "(80067, 4)"
      ]
     },
     "execution_count": 10,
     "metadata": {},
     "output_type": "execute_result"
    }
   ],
   "source": [
    "#*************************\n",
    "df_trimmed.shape # output: 3"
   ]
  },
  {
   "cell_type": "code",
   "execution_count": 11,
   "id": "3e68cc7c",
   "metadata": {},
   "outputs": [
    {
     "data": {
      "text/html": [
       "<div>\n",
       "<style scoped>\n",
       "    .dataframe tbody tr th:only-of-type {\n",
       "        vertical-align: middle;\n",
       "    }\n",
       "\n",
       "    .dataframe tbody tr th {\n",
       "        vertical-align: top;\n",
       "    }\n",
       "\n",
       "    .dataframe thead th {\n",
       "        text-align: right;\n",
       "    }\n",
       "</style>\n",
       "<table border=\"1\" class=\"dataframe\">\n",
       "  <thead>\n",
       "    <tr style=\"text-align: right;\">\n",
       "      <th></th>\n",
       "      <th>available_bike_stands</th>\n",
       "      <th>available_bikes</th>\n",
       "      <th>last_update</th>\n",
       "      <th>number</th>\n",
       "      <th>index</th>\n",
       "      <th>time</th>\n",
       "      <th>cord_long</th>\n",
       "      <th>cord_lat</th>\n",
       "      <th>weather_main</th>\n",
       "      <th>main_temp</th>\n",
       "      <th>main_humidity</th>\n",
       "      <th>wind_speed</th>\n",
       "      <th>wind_degree</th>\n",
       "      <th>sys_sunset</th>\n",
       "      <th>sys_sunrise</th>\n",
       "    </tr>\n",
       "  </thead>\n",
       "  <tbody>\n",
       "    <tr>\n",
       "      <th>0</th>\n",
       "      <td>0</td>\n",
       "      <td>1</td>\n",
       "      <td>2147483647</td>\n",
       "      <td>507</td>\n",
       "      <td>0</td>\n",
       "      <td>2023-03-30 13:53:20</td>\n",
       "      <td>-6.2672</td>\n",
       "      <td>53.344</td>\n",
       "      <td>Clouds</td>\n",
       "      <td>14.61</td>\n",
       "      <td>71.0</td>\n",
       "      <td>4.12</td>\n",
       "      <td>220.0</td>\n",
       "      <td>2023-03-30 18:54:48</td>\n",
       "      <td>2023-03-30 06:04:13</td>\n",
       "    </tr>\n",
       "    <tr>\n",
       "      <th>1</th>\n",
       "      <td>0</td>\n",
       "      <td>1</td>\n",
       "      <td>2147483647</td>\n",
       "      <td>507</td>\n",
       "      <td>1</td>\n",
       "      <td>2023-03-30 13:55:03</td>\n",
       "      <td>-6.2672</td>\n",
       "      <td>53.344</td>\n",
       "      <td>Clouds</td>\n",
       "      <td>14.61</td>\n",
       "      <td>71.0</td>\n",
       "      <td>4.12</td>\n",
       "      <td>220.0</td>\n",
       "      <td>2023-03-30 18:54:48</td>\n",
       "      <td>2023-03-30 06:04:13</td>\n",
       "    </tr>\n",
       "    <tr>\n",
       "      <th>2</th>\n",
       "      <td>0</td>\n",
       "      <td>1</td>\n",
       "      <td>2147483647</td>\n",
       "      <td>507</td>\n",
       "      <td>2</td>\n",
       "      <td>2023-03-30 14:11:04</td>\n",
       "      <td>-6.2672</td>\n",
       "      <td>53.344</td>\n",
       "      <td>Clouds</td>\n",
       "      <td>14.95</td>\n",
       "      <td>72.0</td>\n",
       "      <td>4.92</td>\n",
       "      <td>149.0</td>\n",
       "      <td>2023-03-30 18:54:48</td>\n",
       "      <td>2023-03-30 06:04:13</td>\n",
       "    </tr>\n",
       "    <tr>\n",
       "      <th>3</th>\n",
       "      <td>0</td>\n",
       "      <td>1</td>\n",
       "      <td>2147483647</td>\n",
       "      <td>507</td>\n",
       "      <td>3</td>\n",
       "      <td>2023-03-30 14:11:26</td>\n",
       "      <td>-6.2672</td>\n",
       "      <td>53.344</td>\n",
       "      <td>Clouds</td>\n",
       "      <td>14.95</td>\n",
       "      <td>72.0</td>\n",
       "      <td>4.92</td>\n",
       "      <td>149.0</td>\n",
       "      <td>2023-03-30 18:54:48</td>\n",
       "      <td>2023-03-30 06:04:13</td>\n",
       "    </tr>\n",
       "    <tr>\n",
       "      <th>4</th>\n",
       "      <td>0</td>\n",
       "      <td>1</td>\n",
       "      <td>2147483647</td>\n",
       "      <td>507</td>\n",
       "      <td>4</td>\n",
       "      <td>2023-03-30 14:15:02</td>\n",
       "      <td>-6.2672</td>\n",
       "      <td>53.344</td>\n",
       "      <td>Clouds</td>\n",
       "      <td>14.95</td>\n",
       "      <td>72.0</td>\n",
       "      <td>4.92</td>\n",
       "      <td>149.0</td>\n",
       "      <td>2023-03-30 18:54:48</td>\n",
       "      <td>2023-03-30 06:04:13</td>\n",
       "    </tr>\n",
       "  </tbody>\n",
       "</table>\n",
       "</div>"
      ],
      "text/plain": [
       "   available_bike_stands  available_bikes  last_update  number  index  \\\n",
       "0                      0                1   2147483647     507      0   \n",
       "1                      0                1   2147483647     507      1   \n",
       "2                      0                1   2147483647     507      2   \n",
       "3                      0                1   2147483647     507      3   \n",
       "4                      0                1   2147483647     507      4   \n",
       "\n",
       "                 time  cord_long  cord_lat weather_main  main_temp  \\\n",
       "0 2023-03-30 13:53:20    -6.2672    53.344       Clouds      14.61   \n",
       "1 2023-03-30 13:55:03    -6.2672    53.344       Clouds      14.61   \n",
       "2 2023-03-30 14:11:04    -6.2672    53.344       Clouds      14.95   \n",
       "3 2023-03-30 14:11:26    -6.2672    53.344       Clouds      14.95   \n",
       "4 2023-03-30 14:15:02    -6.2672    53.344       Clouds      14.95   \n",
       "\n",
       "   main_humidity  wind_speed  wind_degree          sys_sunset  \\\n",
       "0           71.0        4.12        220.0 2023-03-30 18:54:48   \n",
       "1           71.0        4.12        220.0 2023-03-30 18:54:48   \n",
       "2           72.0        4.92        149.0 2023-03-30 18:54:48   \n",
       "3           72.0        4.92        149.0 2023-03-30 18:54:48   \n",
       "4           72.0        4.92        149.0 2023-03-30 18:54:48   \n",
       "\n",
       "          sys_sunrise  \n",
       "0 2023-03-30 06:04:13  \n",
       "1 2023-03-30 06:04:13  \n",
       "2 2023-03-30 06:04:13  \n",
       "3 2023-03-30 06:04:13  \n",
       "4 2023-03-30 06:04:13  "
      ]
     },
     "execution_count": 11,
     "metadata": {},
     "output_type": "execute_result"
    }
   ],
   "source": [
    "#*************************\n",
    "df_trimmed['index'] = df_trimmed.groupby('number').cumcount()\n",
    "merged_df = df_trimmed.join(weather_sql,on='index', how='left')\n",
    "merged_df.head()"
   ]
  },
  {
   "cell_type": "code",
   "execution_count": 12,
   "id": "b3ba96a0",
   "metadata": {},
   "outputs": [],
   "source": [
    "#*************************\n",
    "label_encoder = preprocessing.LabelEncoder()\n",
    "merged_df['weather_main'] = label_encoder.fit_transform(merged_df['weather_main'])"
   ]
  },
  {
   "cell_type": "code",
   "execution_count": 13,
   "id": "0aaa914e",
   "metadata": {},
   "outputs": [
    {
     "data": {
      "text/html": [
       "<div>\n",
       "<style scoped>\n",
       "    .dataframe tbody tr th:only-of-type {\n",
       "        vertical-align: middle;\n",
       "    }\n",
       "\n",
       "    .dataframe tbody tr th {\n",
       "        vertical-align: top;\n",
       "    }\n",
       "\n",
       "    .dataframe thead th {\n",
       "        text-align: right;\n",
       "    }\n",
       "</style>\n",
       "<table border=\"1\" class=\"dataframe\">\n",
       "  <thead>\n",
       "    <tr style=\"text-align: right;\">\n",
       "      <th></th>\n",
       "      <th>available_bike_stands</th>\n",
       "      <th>available_bikes</th>\n",
       "      <th>last_update</th>\n",
       "      <th>number</th>\n",
       "      <th>index</th>\n",
       "      <th>time</th>\n",
       "      <th>cord_long</th>\n",
       "      <th>cord_lat</th>\n",
       "      <th>weather_main</th>\n",
       "      <th>main_temp</th>\n",
       "      <th>main_humidity</th>\n",
       "      <th>wind_speed</th>\n",
       "      <th>wind_degree</th>\n",
       "      <th>sys_sunset</th>\n",
       "      <th>sys_sunrise</th>\n",
       "    </tr>\n",
       "  </thead>\n",
       "  <tbody>\n",
       "    <tr>\n",
       "      <th>80062</th>\n",
       "      <td>7</td>\n",
       "      <td>12</td>\n",
       "      <td>2147483647</td>\n",
       "      <td>39</td>\n",
       "      <td>700</td>\n",
       "      <td>2023-04-12 20:15:02</td>\n",
       "      <td>-6.2672</td>\n",
       "      <td>53.344</td>\n",
       "      <td>1</td>\n",
       "      <td>6.86</td>\n",
       "      <td>81.0</td>\n",
       "      <td>10.8</td>\n",
       "      <td>280.0</td>\n",
       "      <td>2023-04-12 19:18:16</td>\n",
       "      <td>2023-04-12 05:33:12</td>\n",
       "    </tr>\n",
       "    <tr>\n",
       "      <th>80063</th>\n",
       "      <td>25</td>\n",
       "      <td>15</td>\n",
       "      <td>2147483647</td>\n",
       "      <td>83</td>\n",
       "      <td>700</td>\n",
       "      <td>2023-04-12 20:15:02</td>\n",
       "      <td>-6.2672</td>\n",
       "      <td>53.344</td>\n",
       "      <td>1</td>\n",
       "      <td>6.86</td>\n",
       "      <td>81.0</td>\n",
       "      <td>10.8</td>\n",
       "      <td>280.0</td>\n",
       "      <td>2023-04-12 19:18:16</td>\n",
       "      <td>2023-04-12 05:33:12</td>\n",
       "    </tr>\n",
       "    <tr>\n",
       "      <th>80064</th>\n",
       "      <td>19</td>\n",
       "      <td>21</td>\n",
       "      <td>2147483647</td>\n",
       "      <td>92</td>\n",
       "      <td>700</td>\n",
       "      <td>2023-04-12 20:15:02</td>\n",
       "      <td>-6.2672</td>\n",
       "      <td>53.344</td>\n",
       "      <td>1</td>\n",
       "      <td>6.86</td>\n",
       "      <td>81.0</td>\n",
       "      <td>10.8</td>\n",
       "      <td>280.0</td>\n",
       "      <td>2023-04-12 19:18:16</td>\n",
       "      <td>2023-04-12 05:33:12</td>\n",
       "    </tr>\n",
       "    <tr>\n",
       "      <th>80065</th>\n",
       "      <td>17</td>\n",
       "      <td>13</td>\n",
       "      <td>2147483647</td>\n",
       "      <td>21</td>\n",
       "      <td>700</td>\n",
       "      <td>2023-04-12 20:15:02</td>\n",
       "      <td>-6.2672</td>\n",
       "      <td>53.344</td>\n",
       "      <td>1</td>\n",
       "      <td>6.86</td>\n",
       "      <td>81.0</td>\n",
       "      <td>10.8</td>\n",
       "      <td>280.0</td>\n",
       "      <td>2023-04-12 19:18:16</td>\n",
       "      <td>2023-04-12 05:33:12</td>\n",
       "    </tr>\n",
       "    <tr>\n",
       "      <th>80066</th>\n",
       "      <td>13</td>\n",
       "      <td>17</td>\n",
       "      <td>2147483647</td>\n",
       "      <td>88</td>\n",
       "      <td>700</td>\n",
       "      <td>2023-04-12 20:15:02</td>\n",
       "      <td>-6.2672</td>\n",
       "      <td>53.344</td>\n",
       "      <td>1</td>\n",
       "      <td>6.86</td>\n",
       "      <td>81.0</td>\n",
       "      <td>10.8</td>\n",
       "      <td>280.0</td>\n",
       "      <td>2023-04-12 19:18:16</td>\n",
       "      <td>2023-04-12 05:33:12</td>\n",
       "    </tr>\n",
       "  </tbody>\n",
       "</table>\n",
       "</div>"
      ],
      "text/plain": [
       "       available_bike_stands  available_bikes  last_update  number  index  \\\n",
       "80062                      7               12   2147483647      39    700   \n",
       "80063                     25               15   2147483647      83    700   \n",
       "80064                     19               21   2147483647      92    700   \n",
       "80065                     17               13   2147483647      21    700   \n",
       "80066                     13               17   2147483647      88    700   \n",
       "\n",
       "                     time  cord_long  cord_lat  weather_main  main_temp  \\\n",
       "80062 2023-04-12 20:15:02    -6.2672    53.344             1       6.86   \n",
       "80063 2023-04-12 20:15:02    -6.2672    53.344             1       6.86   \n",
       "80064 2023-04-12 20:15:02    -6.2672    53.344             1       6.86   \n",
       "80065 2023-04-12 20:15:02    -6.2672    53.344             1       6.86   \n",
       "80066 2023-04-12 20:15:02    -6.2672    53.344             1       6.86   \n",
       "\n",
       "       main_humidity  wind_speed  wind_degree          sys_sunset  \\\n",
       "80062           81.0        10.8        280.0 2023-04-12 19:18:16   \n",
       "80063           81.0        10.8        280.0 2023-04-12 19:18:16   \n",
       "80064           81.0        10.8        280.0 2023-04-12 19:18:16   \n",
       "80065           81.0        10.8        280.0 2023-04-12 19:18:16   \n",
       "80066           81.0        10.8        280.0 2023-04-12 19:18:16   \n",
       "\n",
       "              sys_sunrise  \n",
       "80062 2023-04-12 05:33:12  \n",
       "80063 2023-04-12 05:33:12  \n",
       "80064 2023-04-12 05:33:12  \n",
       "80065 2023-04-12 05:33:12  \n",
       "80066 2023-04-12 05:33:12  "
      ]
     },
     "execution_count": 13,
     "metadata": {},
     "output_type": "execute_result"
    }
   ],
   "source": [
    "#*************************\n",
    "merged_df.tail()"
   ]
  },
  {
   "cell_type": "code",
   "execution_count": 14,
   "id": "35faf015",
   "metadata": {},
   "outputs": [],
   "source": [
    "#*************************\n",
    "merged_df['month'] = merged_df['time'].dt.month\n",
    "merged_df['dayofweek'] = merged_df['time'].dt.dayofweek\n",
    "merged_df['hour'] = merged_df['time'].dt.hour\n",
    "merged_df['minute'] = merged_df['time'].dt.minute"
   ]
  },
  {
   "cell_type": "code",
   "execution_count": 15,
   "id": "80c6cf0f",
   "metadata": {},
   "outputs": [
    {
     "name": "stdout",
     "output_type": "stream",
     "text": [
      "0\n"
     ]
    }
   ],
   "source": [
    "print(merged_df.isnull().sum().sum())"
   ]
  },
  {
   "cell_type": "code",
   "execution_count": 16,
   "id": "48cc8d44",
   "metadata": {},
   "outputs": [
    {
     "data": {
      "text/plain": [
       "available_bike_stands             int64\n",
       "available_bikes                   int64\n",
       "last_update                       int64\n",
       "number                            int64\n",
       "index                             int64\n",
       "time                     datetime64[ns]\n",
       "cord_long                       float64\n",
       "cord_lat                        float64\n",
       "weather_main                      int64\n",
       "main_temp                       float64\n",
       "main_humidity                   float64\n",
       "wind_speed                      float64\n",
       "wind_degree                     float64\n",
       "sys_sunset               datetime64[ns]\n",
       "sys_sunrise              datetime64[ns]\n",
       "month                             int64\n",
       "dayofweek                         int64\n",
       "hour                              int64\n",
       "minute                            int64\n",
       "dtype: object"
      ]
     },
     "execution_count": 16,
     "metadata": {},
     "output_type": "execute_result"
    }
   ],
   "source": [
    "#*************************\n",
    "merged_df.dtypes"
   ]
  },
  {
   "cell_type": "code",
   "execution_count": 17,
   "id": "b5117450",
   "metadata": {},
   "outputs": [
    {
     "data": {
      "text/plain": [
       "(80067, 19)"
      ]
     },
     "execution_count": 17,
     "metadata": {},
     "output_type": "execute_result"
    }
   ],
   "source": [
    "merged_df.shape"
   ]
  },
  {
   "cell_type": "code",
   "execution_count": 18,
   "id": "7fcb0a8b",
   "metadata": {},
   "outputs": [
    {
     "name": "stdout",
     "output_type": "stream",
     "text": [
      "Test Set Predictions for Station: \n",
      "       Actual  Predicted\n",
      "76216       0   0.000000\n",
      "79460      14  13.982609\n",
      "8893       35  37.139130\n",
      "76566      15  15.834783\n",
      "13323       1  12.269565\n",
      "...       ...        ...\n",
      "9395        5  15.173913\n",
      "36580       9   9.182609\n",
      "78941       9   9.069565\n",
      "33783      22  20.913043\n",
      "74332      16  15.973913\n",
      "\n",
      "[24021 rows x 2 columns]\n",
      "\n",
      "Mean Absolute Error: 2.133205184593915\n",
      "Mean Squared Error: 15.04317809503326\n",
      "Root Mean Squared Error: 3.8785536086321226\n",
      "The accuracy score :  0.7952559369670316\n"
     ]
    }
   ],
   "source": [
    "#*************************\n",
    "X = merged_df[['number','month','hour','minute','weather_main','main_temp','main_humidity','wind_speed']]\n",
    "Y = merged_df.available_bikes\n",
    "X_train, X_test,y_train,y_test = train_test_split(X, Y, test_size=0.3,random_state=0)\n",
    "regressor = RandomForestRegressor(n_estimators=merged_df['number'].nunique())\n",
    "\n",
    "regressor.fit(X_train, y_train)\n",
    "y_pred = regressor.predict(X_test)\n",
    "df = pd.DataFrame({'Actual': y_test, 'Predicted': y_pred})\n",
    "\n",
    "# Write to a pickle file\n",
    "# with open('monday_station.pkl', 'wb') as handle:\n",
    "#     pickle.dump(regressor, handle, pickle.HIGHEST_PROTOCOL)\n",
    "\n",
    "print('Test Set Predictions for Station: ')\n",
    "print(df)\n",
    "print()\n",
    "\n",
    "#Accuracy score\n",
    "print('Mean Absolute Error:', metrics.mean_absolute_error(y_test, y_pred))\n",
    "print('Mean Squared Error:', metrics.mean_squared_error(y_test, y_pred))\n",
    "print('Root Mean Squared Error:', np.sqrt(metrics.mean_squared_error(y_test, y_pred)))\n",
    "print (\"The accuracy score : \",metrics.r2_score(y_test, y_pred))\n"
   ]
  },
  {
   "cell_type": "code",
   "execution_count": null,
   "id": "e5dff094",
   "metadata": {},
   "outputs": [],
   "source": []
  },
  {
   "cell_type": "code",
   "execution_count": null,
   "id": "a8ca256d",
   "metadata": {},
   "outputs": [],
   "source": []
  },
  {
   "cell_type": "code",
   "execution_count": null,
   "id": "adcc64dc",
   "metadata": {},
   "outputs": [],
   "source": []
  },
  {
   "cell_type": "code",
   "execution_count": null,
   "id": "8d1fe55b",
   "metadata": {},
   "outputs": [],
   "source": []
  }
 ],
 "metadata": {
  "kernelspec": {
   "display_name": "Python 3 (ipykernel)",
   "language": "python",
   "name": "python3"
  },
  "language_info": {
   "codemirror_mode": {
    "name": "ipython",
    "version": 3
   },
   "file_extension": ".py",
   "mimetype": "text/x-python",
   "name": "python",
   "nbconvert_exporter": "python",
   "pygments_lexer": "ipython3",
   "version": "3.9.13"
  }
 },
 "nbformat": 4,
 "nbformat_minor": 5
}
